{
 "cells": [
  {
   "cell_type": "code",
   "execution_count": 434,
   "metadata": {},
   "outputs": [],
   "source": [
    "import pandas as pd\n",
    "import sklearn as sk\n",
    "import statsmodels.api as sm \n",
    "import matplotlib.pyplot as plt\n",
    "import numpy as np\n",
    "from sklearn.model_selection import train_test_split, LeaveOneOut, cross_val_score\n",
    "from sklearn.linear_model import LogisticRegression, LinearRegression\n",
    "from sklearn.utils import resample\n",
    "from sklearn.preprocessing import PolynomialFeatures\n",
    "from sklearn.pipeline import Pipeline\n",
    "from sklearn.metrics import mean_squared_error\n",
    "import seaborn as sns\n",
    "from mlxtend.feature_selection import SequentialFeatureSelector as SFS\n",
    "\n",
    "from itertools import combinations\n",
    "\n",
    "sns.set()"
   ]
  },
  {
   "cell_type": "code",
   "execution_count": 435,
   "metadata": {},
   "outputs": [],
   "source": [
    "df = pd.read_csv(\"Default.csv\", index_col=0)\n"
   ]
  },
  {
   "cell_type": "markdown",
   "metadata": {},
   "source": [
    "1.\n",
    "1a.\n"
   ]
  },
  {
   "cell_type": "code",
   "execution_count": 436,
   "metadata": {},
   "outputs": [
    {
     "data": {
      "text/plain": [
       "array([[2.08091984e-05, 5.64710797e-03]])"
      ]
     },
     "execution_count": 436,
     "metadata": {},
     "output_type": "execute_result"
    }
   ],
   "source": [
    "y = df['default']\n",
    "X = df[['income', 'balance']]\n",
    "clf = LogisticRegression(random_state=0).fit(X, y)\n",
    "clf.coef_"
   ]
  },
  {
   "cell_type": "markdown",
   "metadata": {},
   "source": [
    "1b."
   ]
  },
  {
   "cell_type": "code",
   "execution_count": 437,
   "metadata": {},
   "outputs": [
    {
     "data": {
      "text/plain": [
       "0.026000000000000023"
      ]
     },
     "execution_count": 437,
     "metadata": {},
     "output_type": "execute_result"
    }
   ],
   "source": [
    "#split into train and validation set\n",
    "X_train, X_test, y_train, y_test = train_test_split(X, y, test_size = 0.25, random_state=200)\n",
    "\n",
    "#fit with traing data\n",
    "clf.fit(X_train, y_train)\n",
    "\n",
    "#posterior probability threshold of 0.5 and compute validation set accuracy\n",
    "#clf.score gives us the accuracy, so 1-score is the error, or misclassifications\n",
    "1- clf.score(X_test, y_test)"
   ]
  },
  {
   "cell_type": "markdown",
   "metadata": {},
   "source": [
    "there is a 2.6% misclassification rate, or validation set error."
   ]
  },
  {
   "cell_type": "markdown",
   "metadata": {},
   "source": [
    "1c."
   ]
  },
  {
   "cell_type": "code",
   "execution_count": 438,
   "metadata": {},
   "outputs": [
    {
     "name": "stdout",
     "output_type": "stream",
     "text": [
      "0.03159999999999996\n",
      "0.026000000000000023\n",
      "0.031200000000000006\n"
     ]
    }
   ],
   "source": [
    "for i in range(3):\n",
    "    #split into train and validation set\n",
    "    X_train, X_test, y_train, y_test = train_test_split(X, y, test_size = 0.25, random_state=250+i)\n",
    "\n",
    "    #fit with traing data\n",
    "    clf.fit(X_train, y_train)\n",
    "\n",
    "    #posterior probability threshold of 0.5 and compute validation set accuracy\n",
    "    #clf.score gives us the accuracy, so 1-score is the error, or misclassifications\n",
    "    print(1- clf.score(X_test, y_test))"
   ]
  },
  {
   "cell_type": "markdown",
   "metadata": {},
   "source": [
    "using three different 75-25 splits, our validation set error remained relatively low, with the error of each split being aroudn 2.8 or 3.0 "
   ]
  },
  {
   "cell_type": "markdown",
   "metadata": {},
   "source": [
    "1d."
   ]
  },
  {
   "cell_type": "code",
   "execution_count": 439,
   "metadata": {},
   "outputs": [
    {
     "name": "stderr",
     "output_type": "stream",
     "text": [
      "C:\\Users\\Bernhard\\AppData\\Local\\Temp\\ipykernel_97048\\568021069.py:3: SettingWithCopyWarning: \n",
      "A value is trying to be set on a copy of a slice from a DataFrame.\n",
      "Try using .loc[row_indexer,col_indexer] = value instead\n",
      "\n",
      "See the caveats in the documentation: https://pandas.pydata.org/pandas-docs/stable/user_guide/indexing.html#returning-a-view-versus-a-copy\n",
      "  X['student'] = stud\n"
     ]
    },
    {
     "name": "stdout",
     "output_type": "stream",
     "text": [
      "Mean error with stud: 0.03240533333333334\n",
      "Mean error without stud: 0.030437333333333344\n"
     ]
    }
   ],
   "source": [
    "stud = df['student'].eq('Yes').mul(1)\n",
    "X = df[['income', 'balance']]\n",
    "X['student'] = stud\n",
    "\n",
    "with_stud = []\n",
    "without_stud = []\n",
    "for i in range(75):\n",
    "    X_train, X_test, y_train, y_test = train_test_split(X, y, test_size = 0.25, random_state = 200+i)\n",
    "\n",
    "    #with student\n",
    "    clf.fit(X_train, y_train)\n",
    "    with_stud.append(1- clf.score(X_test, y_test))\n",
    "\n",
    "    #without student\n",
    "    clf.fit(X_train.drop(['student'], axis =1), y_train)\n",
    "    without_stud.append(1- clf.score(X_test.drop(['student'], axis=1), y_test))\n",
    "print(\"Mean error with stud: {}\".format(sum(with_stud)/len(with_stud)))\n",
    "print(\"Mean error without stud: {}\".format(sum(without_stud)/len(without_stud)))\n",
    "\n",
    "\n",
    "    "
   ]
  },
  {
   "cell_type": "markdown",
   "metadata": {},
   "source": [
    "From this, we can see that adding a student dummy variable does not reduce the erorr rate of our logisitic regression, and in fact increases the average error rate for our logisitc regression by around 0.2%"
   ]
  },
  {
   "cell_type": "markdown",
   "metadata": {},
   "source": [
    "2.\n",
    "2a."
   ]
  },
  {
   "cell_type": "code",
   "execution_count": 440,
   "metadata": {},
   "outputs": [],
   "source": [
    "np.random.seed(312)\n",
    "X = np.random.normal(size=100)\n",
    "y = X-2*X**2+np.random.normal(size=100)\n"
   ]
  },
  {
   "cell_type": "markdown",
   "metadata": {},
   "source": [
    "<p>In this dataset, n is 100, and p is 1. The model used ot generate the data in equation form is Y = x-2x<sup>2</sup> + &#949</p>"
   ]
  },
  {
   "cell_type": "markdown",
   "metadata": {},
   "source": [
    "2b."
   ]
  },
  {
   "cell_type": "code",
   "execution_count": 441,
   "metadata": {},
   "outputs": [
    {
     "data": {
      "text/plain": [
       "[<matplotlib.lines.Line2D at 0x22c4fd4f100>]"
      ]
     },
     "execution_count": 441,
     "metadata": {},
     "output_type": "execute_result"
    },
    {
     "data": {
      "image/png": "[encoded data removed]",
      "text/plain": [
       "<Figure size 640x480 with 1 Axes>"
      ]
     },
     "metadata": {},
     "output_type": "display_data"
    }
   ],
   "source": [
    "plt.scatter(X, y)\n",
    "\n",
    "x_predict=np.linspace(-2.5,2.5)\n",
    "y_predict=x_predict-2*x_predict**2\n",
    "plt.plot(x_predict,y_predict, 'r--')"
   ]
  },
  {
   "cell_type": "markdown",
   "metadata": {},
   "source": [
    "I find that there is noise especially around the vertex of the parabola for the model of the equation y, but the scatterplot is mostly parabolic"
   ]
  },
  {
   "cell_type": "markdown",
   "metadata": {},
   "source": [
    "2c."
   ]
  },
  {
   "cell_type": "code",
   "execution_count": 442,
   "metadata": {},
   "outputs": [
    {
     "name": "stderr",
     "output_type": "stream",
     "text": [
      "C:\\Users\\Bernhard\\AppData\\Local\\Temp\\ipykernel_97048\\2637963259.py:2: FutureWarning: The default dtype for empty Series will be 'object' instead of 'float64' in a future version. Specify a dtype explicitly to silence this warning.\n",
      "  loocv_scores = pd.Series()\n"
     ]
    },
    {
     "name": "stdout",
     "output_type": "stream",
     "text": [
      "{'copy_X': True, 'fit_intercept': True, 'n_jobs': None, 'normalize': 'deprecated', 'positive': False}\n",
      "{'copy_X': True, 'fit_intercept': True, 'n_jobs': None, 'normalize': 'deprecated', 'positive': False}\n",
      "{'copy_X': True, 'fit_intercept': True, 'n_jobs': None, 'normalize': 'deprecated', 'positive': False}\n",
      "{'copy_X': True, 'fit_intercept': True, 'n_jobs': None, 'normalize': 'deprecated', 'positive': False}\n"
     ]
    },
    {
     "data": {
      "text/plain": [
       "0    8.015655\n",
       "1    0.807797\n",
       "2    0.823459\n",
       "3    0.827053\n",
       "dtype: float64"
      ]
     },
     "execution_count": 442,
     "metadata": {},
     "output_type": "execute_result"
    }
   ],
   "source": [
    "np.random.seed(312)\n",
    "loocv_scores = pd.Series()\n",
    "loo = LeaveOneOut()\n",
    "loo.get_n_splits(X)\n",
    "for i in range(4):\n",
    "    poly_reg = Pipeline([(\"poly\", PolynomialFeatures(degree = i+1)), (\"reg\", LinearRegression())])\n",
    "    loo = LeaveOneOut()\n",
    "    cv_scores = cross_val_score(poly_reg, X.reshape(-1, 1), y, scoring = \"neg_mean_squared_error\", cv = loo)\n",
    "    loocv_scores.loc[i] = abs(cv_scores.mean())\n",
    "    print(poly_reg[\"reg\"].get_params())\n",
    "loocv_scores"
   ]
  },
  {
   "cell_type": "markdown",
   "metadata": {},
   "source": [
    "<p>for the linear model Y= &#946<sub>0</sub> + &#946<sub>1</sub>X + &#949 we get 8.016 as the LOOCV error.<p>\n",
    "<p>for the linear model Y= &#946<sub>0</sub> + &#946<sub>1</sub>X + &#946<sub>2</sub>X<sup>2</sup> + &#949 we get 0.0808 as the LOOCV error.<p>\n",
    "<p>for the linear model Y= &#946<sub>0</sub> + &#946<sub>1</sub>X + &#946<sub>2</sub>X<sup>2</sup> +  &#946<sub>3</sub>X<sup>3</sup> + &#949 we get 0.0823 as the LOOCV error.<p>\n",
    "<p>for the linear model Y= &#946<sub>0</sub> + &#946<sub>1</sub>X + &#946<sub>2</sub>X<sup>2</sup> +  &#946<sub>3</sub>X<sup>3</sup> +  &#946<sub>4</sub>X<sup>4</sup> + &#949 we get 0.0827 as the LOOCV error.<p>\n"
   ]
  },
  {
   "cell_type": "markdown",
   "metadata": {},
   "source": [
    "2d."
   ]
  },
  {
   "cell_type": "markdown",
   "metadata": {},
   "source": [
    "<p>The model Y= &#946<sub>0</sub> + &#946<sub>1</sub>X + &#946<sub>2</sub>X<sup>2</sup> + &#949 had the lowest LOOCV error. This is what I expected, as the original model was formed off of the equation Y = x-2x<sup>2</sup> + &#949 which is best modeled by the second order polynomial equation that performed the best.</p>"
   ]
  },
  {
   "cell_type": "code",
   "execution_count": 443,
   "metadata": {},
   "outputs": [
    {
     "name": "stdout",
     "output_type": "stream",
     "text": [
      "==============================================================================\n",
      "                 coef    std err          t      P>|t|      [0.025      0.975]\n",
      "------------------------------------------------------------------------------\n",
      "const         -1.6505      0.274     -6.033      0.000      -2.193      -1.108\n",
      "x1             6.1251      2.736      2.239      0.027       0.696      11.554\n",
      "==============================================================================\n",
      "==============================================================================\n",
      "                 coef    std err          t      P>|t|      [0.025      0.975]\n",
      "------------------------------------------------------------------------------\n",
      "const         -1.6505      0.089    -18.615      0.000      -1.827      -1.475\n",
      "x1             6.1251      0.887      6.908      0.000       4.365       7.885\n",
      "x2            25.6376      0.887     28.914      0.000      23.878      27.397\n",
      "==============================================================================\n",
      "==============================================================================\n",
      "                 coef    std err          t      P>|t|      [0.025      0.975]\n",
      "------------------------------------------------------------------------------\n",
      "const         -1.6505      0.089    -18.538      0.000      -1.827      -1.474\n",
      "x1             6.1251      0.890      6.880      0.000       4.358       7.892\n",
      "x2            25.6376      0.890     28.795      0.000      23.870      27.405\n",
      "x3             0.4019      0.890      0.451      0.653      -1.365       2.169\n",
      "==============================================================================\n",
      "==============================================================================\n",
      "                 coef    std err          t      P>|t|      [0.025      0.975]\n",
      "------------------------------------------------------------------------------\n",
      "const         -1.6505      0.089    -18.569      0.000      -1.827      -1.474\n",
      "x1             6.1251      0.889      6.891      0.000       4.360       7.890\n",
      "x2            25.6376      0.889     28.843      0.000      23.873      27.402\n",
      "x3             0.4019      0.889      0.452      0.652      -1.363       2.167\n",
      "x4             1.0198      0.889      1.147      0.254      -0.745       2.784\n",
      "==============================================================================\n"
     ]
    }
   ],
   "source": [
    "for i in range(1, 5):\n",
    "    poly = PolynomialFeatures(degree = i, include_bias=True)\n",
    "\n",
    "    ortho_X = np.linalg.qr(poly.fit_transform(X.reshape(-1,1)))[0][:,1:]\n",
    "    exog = sm.add_constant(ortho_X)\n",
    "    endog = y\n",
    "    mod = sm.OLS(endog, exog)\n",
    "    res = mod.fit()\n",
    "    print(res.summary().tables[1])"
   ]
  },
  {
   "cell_type": "markdown",
   "metadata": {},
   "source": [
    "<p>The significance for model the first and second degree predictors seemd to have the most statistical significance on average. In all estimates with polynomials X<sup>2</sup> or above, the p value for these predictors was very high, meaning that these values are very statistically significant. </p>\n",
    "<p>The other orders of our predictor X seemed to not be statistically significant with an alpha of 0.05</p>\n",
    "<p>These results agree with the conclusions drawn based on the cross validation results. These results suggest that a model such as model ii is the best fit for predicting.</p>"
   ]
  },
  {
   "cell_type": "markdown",
   "metadata": {},
   "source": [
    "3.\n",
    "3a."
   ]
  },
  {
   "cell_type": "code",
   "execution_count": 444,
   "metadata": {},
   "outputs": [
    {
     "data": {
      "text/plain": [
       "22.532806324110677"
      ]
     },
     "execution_count": 444,
     "metadata": {},
     "output_type": "execute_result"
    }
   ],
   "source": [
    "df = pd.read_csv(\"Boston.csv\")\n",
    "mean_estimate = df['medv'].mean()\n",
    "mean_estimate"
   ]
  },
  {
   "cell_type": "markdown",
   "metadata": {},
   "source": [
    "3b."
   ]
  },
  {
   "cell_type": "code",
   "execution_count": 445,
   "metadata": {},
   "outputs": [
    {
     "data": {
      "text/plain": [
       "0.40886114749753505"
      ]
     },
     "execution_count": 445,
     "metadata": {},
     "output_type": "execute_result"
    }
   ],
   "source": [
    "sem = df['medv'].std()/(len(df)**0.5)\n",
    "sem\n"
   ]
  },
  {
   "cell_type": "markdown",
   "metadata": {},
   "source": [
    "This standard error estimate gives a measure of the sample-to-sample variability of the sample mean. It is a measure of how well a sample represents the population. Since medv si measured in units of 1000 USD, the standard error translates to $408."
   ]
  },
  {
   "cell_type": "markdown",
   "metadata": {},
   "source": [
    "3c."
   ]
  },
  {
   "cell_type": "code",
   "execution_count": 446,
   "metadata": {},
   "outputs": [
    {
     "name": "stdout",
     "output_type": "stream",
     "text": [
      "Bootstrap mean: 22.529328873517787\n",
      "Bootstrap standard error: 0.40962209178829634\n"
     ]
    }
   ],
   "source": [
    "n = 10000\n",
    "means = np.empty(n)\n",
    "for i in range(n):\n",
    "    sample = resample(df['medv'])\n",
    "    means[i]=sample.mean()\n",
    "bs_mean = means.mean()\n",
    "bs_se = means.std()\n",
    "print(\"Bootstrap mean: {}\".format(bs_mean))\n",
    "print(\"Bootstrap standard error: {}\".format(bs_se))\n"
   ]
  },
  {
   "cell_type": "markdown",
   "metadata": {},
   "source": [
    "<p>Using bootstrap resampling, we have an estimated 0.405 for the standard error of &#956&#770 this is very similar to the estimate we made in part 3b as well.</p>"
   ]
  },
  {
   "cell_type": "markdown",
   "metadata": {},
   "source": [
    "3d."
   ]
  },
  {
   "cell_type": "code",
   "execution_count": 447,
   "metadata": {},
   "outputs": [
    {
     "name": "stdout",
     "output_type": "stream",
     "text": [
      "95%% confidence interval: [21.710084689941194, 23.34857305709438]\n"
     ]
    }
   ],
   "source": [
    "conf_int = [bs_mean-(2*bs_se), bs_mean + (2*bs_se)]\n",
    "print(\"95%% confidence interval: {}\".format(conf_int))"
   ]
  },
  {
   "cell_type": "markdown",
   "metadata": {},
   "source": [
    "4.\n",
    "4a."
   ]
  },
  {
   "cell_type": "code",
   "execution_count": 448,
   "metadata": {},
   "outputs": [],
   "source": [
    "np.random.seed(312)\n",
    "X = np.random.normal(size=100)\n",
    "noise = np.random.normal(size=100)\n"
   ]
  },
  {
   "cell_type": "markdown",
   "metadata": {},
   "source": [
    "4b."
   ]
  },
  {
   "cell_type": "code",
   "execution_count": 449,
   "metadata": {},
   "outputs": [
    {
     "data": {
      "text/plain": [
       "<matplotlib.collections.PathCollection at 0x22c4fd8b5e0>"
      ]
     },
     "execution_count": 449,
     "metadata": {},
     "output_type": "execute_result"
    },
    {
     "data": {
      "image/png": "[encoded data removed]",
      "text/plain": [
       "<Figure size 640x480 with 1 Axes>"
      ]
     },
     "metadata": {},
     "output_type": "display_data"
    }
   ],
   "source": [
    "y = [4 + 8*i + 16*i**2 + 32*i**3 + e for i, e in zip(X, noise)]\n",
    "plt.scatter(X,y, s=10)"
   ]
  },
  {
   "cell_type": "markdown",
   "metadata": {},
   "source": [
    "4c."
   ]
  },
  {
   "cell_type": "code",
   "execution_count": 450,
   "metadata": {},
   "outputs": [],
   "source": [
    "\n",
    "lm = LinearRegression()\n",
    "\n",
    "def best_subset_adj_r2(estimator, X, y, max_size=8, cv=5):\n",
    "    n_features = X.shape[1]\n",
    "    subsets = (combinations(range(n_features), k + 1) for k in range(min(n_features, max_size)))\n",
    "\n",
    "    best_size_subset = []\n",
    "    for subsets_k in subsets:  # for each list of subsets of the same size\n",
    "        best_score = -np.inf\n",
    "        best_subset = None\n",
    "        for subset in subsets_k: # for each subset\n",
    "            estimator.fit(X.iloc[:, list(subset)], y)\n",
    "            # get the subset with the best score among subsets of the same size\n",
    "\n",
    "            #calculate adj r2\n",
    "            score = estimator.score(X.iloc[:, list(subset)], y)\n",
    "            score = 1-(1-score)*(len(X)-1)/(len(X)-len(subset)-1)\n",
    "            if score > best_score:\n",
    "                best_score, best_subset = score, subset\n",
    "        # to compare subsets of different sizes we must use CV\n",
    "        # first store the best subset of each size\n",
    "        best_size_subset.append(best_subset)\n",
    "        \n",
    "    # compare best subsets of each size\n",
    "    best_score = -np.inf\n",
    "    best_subset = None\n",
    "    list_scores = []\n",
    "    for subset in best_size_subset:\n",
    "        estimator.fit(X.iloc[:, list(subset)], y)\n",
    "\n",
    "        #calcualte adj r2\n",
    "        score = estimator.score(X.iloc[:, list(subset)], y)\n",
    "        score = 1-(1-score)*(len(X)-1)/(len(X)-len(subset)-1)\n",
    "        list_scores.append(score)\n",
    "        if score > best_score:\n",
    "            \n",
    "            best_score, best_subset, best_coeff = score, subset, [estimator.intercept_] + list(estimator.coef_)\n",
    "\n",
    "    return best_subset, best_score, best_size_subset, list_scores, best_coeff\n",
    "\n",
    "powers = pd.DataFrame(X.copy(), columns=['X^1'])\n",
    "for i in range(2, 11):\n",
    "    powers[\"X^{}\".format(i)] = X.copy()**i\n",
    "\n",
    "\n",
    "\n"
   ]
  },
  {
   "cell_type": "code",
   "execution_count": 451,
   "metadata": {},
   "outputs": [
    {
     "name": "stdout",
     "output_type": "stream",
     "text": [
      "Best model according to R^2: ['X^1' 'X^2' 'X^3' 'X^9'] with adjusted R^2 of 0.9999295106914541\n",
      "Best model coefficients: [4.201671387279621, 7.794343936619579, 15.90186408722467, 32.15723071002788, -0.0014040259551926226]\n",
      "Best models for R^2:\n",
      "1 ['X^3'] : 0.9619261871023221\n",
      "2 ['X^2' 'X^3'] : 0.9984167311462807\n",
      "3 ['X^1' 'X^2' 'X^3'] : 0.9999279190721606\n",
      "4 ['X^1' 'X^2' 'X^3' 'X^9'] : 0.9999295106914541\n",
      "5 ['X^1' 'X^2' 'X^3' 'X^7' 'X^8'] : 0.9999293755643552\n",
      "6 ['X^1' 'X^2' 'X^3' 'X^4' 'X^6' 'X^7'] : 0.999928669734914\n",
      "7 ['X^1' 'X^2' 'X^3' 'X^5' 'X^7' 'X^8' 'X^9'] : 0.999928439384746\n",
      "8 ['X^1' 'X^2' 'X^3' 'X^4' 'X^5' 'X^6' 'X^7' 'X^9'] : 0.9999277357443391\n",
      "9 ['X^1' 'X^2' 'X^3' 'X^5' 'X^6' 'X^7' 'X^8' 'X^9' 'X^10'] : 0.9999271411980909\n",
      "10 ['X^1' 'X^2' 'X^3' 'X^4' 'X^5' 'X^6' 'X^7' 'X^8' 'X^9' 'X^10'] : 0.9999264575945199\n"
     ]
    },
    {
     "data": {
      "text/plain": [
       "<matplotlib.collections.PathCollection at 0x22c4fe12860>"
      ]
     },
     "execution_count": 451,
     "metadata": {},
     "output_type": "execute_result"
    },
    {
     "data": {
      "image/png": "[encoded data removed]",
      "text/plain": [
       "<Figure size 640x480 with 1 Axes>"
      ]
     },
     "metadata": {},
     "output_type": "display_data"
    }
   ],
   "source": [
    "best_sub, best_score, best_size, list_scores, best_coeff = best_subset_adj_r2(lm, powers, y, max_size=10, cv=5)\n",
    "print(\"Best model according to R^2:\",powers.columns[list(best_sub)].values, \"with adjusted R^2 of\", best_score)\n",
    "print(\"Best model coefficients: {}\".format(best_coeff))\n",
    "print(\"Best models for R^2:\")\n",
    "for subset, score in zip(best_size, list_scores):\n",
    "    print(len(subset), powers.columns[list(subset)].values, \":\", score)\n",
    "\n",
    "plt.plot(range(1,11), list_scores)\n",
    "plt.xlabel(\"Number of Predictors\")\n",
    "plt.ylabel(\"R^2\")\n",
    "xmax = list(range(1,11))[np.argmax(list_scores)]\n",
    "ymax = max(list_scores)\n",
    "plt.scatter(xmax, ymax, marker=\"x\", c=\"r\")"
   ]
  },
  {
   "cell_type": "code",
   "execution_count": 452,
   "metadata": {},
   "outputs": [],
   "source": [
    "def best_subset_BIC(estimator, X, y, max_size=8, cv=5):\n",
    "    n_features = X.shape[1]\n",
    "    subsets = (combinations(range(n_features), k + 1) for k in range(min(n_features, max_size)))\n",
    "\n",
    "    best_size_subset = []\n",
    "    for subsets_k in subsets:  # for each list of subsets of the same size\n",
    "        best_score = np.inf\n",
    "        best_subset = None\n",
    "        for subset in subsets_k: # for each subset\n",
    "            estimator.fit(X.iloc[:, list(subset)], y)\n",
    "            # get the subset with the best score among subsets of the same size\n",
    "\n",
    "            #calculate BIC\n",
    "            ypred = estimator.predict(X.iloc[:, list(subset)])\n",
    "\n",
    "            rss = sum(np.square(ypred-y))\n",
    "            \n",
    "            score = (len(X)*np.log(rss/len(X))) * len(subset)*np.log(len(X))\n",
    "            if score < best_score:\n",
    "                best_score, best_subset = score, subset\n",
    "        # to compare subsets of different sizes we must use CV\n",
    "        # first store the best subset of each size\n",
    "        best_size_subset.append(best_subset)\n",
    "        \n",
    "    # compare best subsets of each size\n",
    "    best_score = np.inf\n",
    "    best_subset = None\n",
    "    list_scores = []\n",
    "    for subset in best_size_subset:\n",
    "        estimator.fit(X.iloc[:, list(subset)], y)\n",
    "\n",
    "        #calcualte adj r2\n",
    "        ypred = estimator.predict(X.iloc[:, list(subset)])\n",
    "\n",
    "        rss = sum(np.square(ypred-y))\n",
    "        score = len(X)*np.log(rss/len(X))+len(subset)*np.log(len(X))\n",
    "        list_scores.append(score)\n",
    "        if score < best_score:\n",
    "            best_score, best_subset, best_coeff = score, subset, [estimator.intercept_] + list(estimator.coef_)\n",
    "\n",
    "    return best_subset, best_score, best_size_subset, list_scores, best_coeff\n",
    "\n"
   ]
  },
  {
   "cell_type": "code",
   "execution_count": 453,
   "metadata": {},
   "outputs": [
    {
     "name": "stdout",
     "output_type": "stream",
     "text": [
      "Best model according to BIC: ['X^1' 'X^2' 'X^3'] with BIC of -13.49717469121203\n",
      "Best model coefficients: [4.194455981736574, 8.040370957238895, 15.921863296389489, 31.973392655659282]\n",
      "Best models for BIC:\n",
      "1 ['X^3'] : 606.3036650275886\n",
      "2 ['X^2' 'X^3'] : 291.87967362551007\n",
      "3 ['X^1' 'X^2' 'X^3'] : -13.49717469121203\n",
      "4 ['X^1' 'X^2' 'X^3' 'X^9'] : -12.17197840052556\n",
      "5 ['X^1' 'X^2' 'X^3' 'X^7' 'X^8'] : -8.433503940012073\n",
      "6 ['X^1' 'X^2' 'X^3' 'X^4' 'X^6' 'X^7'] : -3.9034112605926907\n",
      "7 ['X^1' 'X^2' 'X^3' 'X^5' 'X^7' 'X^8' 'X^9'] : -0.056918312409905525\n",
      "8 ['X^1' 'X^2' 'X^3' 'X^4' 'X^5' 'X^6' 'X^7' 'X^9'] : 4.433820957808322\n",
      "9 ['X^1' 'X^2' 'X^3' 'X^5' 'X^6' 'X^7' 'X^8' 'X^9' 'X^10'] : 8.753380524240853\n",
      "10 ['X^1' 'X^2' 'X^3' 'X^4' 'X^5' 'X^6' 'X^7' 'X^8' 'X^9' 'X^10'] : 13.175104395554271\n"
     ]
    },
    {
     "data": {
      "text/plain": [
       "<matplotlib.collections.PathCollection at 0x22c50fa1900>"
      ]
     },
     "execution_count": 453,
     "metadata": {},
     "output_type": "execute_result"
    },
    {
     "data": {
      "image/png": "[encoded data removed]",
      "text/plain": [
       "<Figure size 640x480 with 1 Axes>"
      ]
     },
     "metadata": {},
     "output_type": "display_data"
    }
   ],
   "source": [
    "best_sub, best_score, best_size, list_scores, best_coeff = best_subset_BIC(lm, powers, y, max_size=10, cv=5)\n",
    "print(\"Best model according to BIC:\",powers.columns[list(best_sub)].values, \"with BIC of\", best_score)\n",
    "print(\"Best model coefficients: {}\".format(best_coeff))\n",
    "print(\"Best models for BIC:\")\n",
    "for subset, score in zip(best_size, list_scores):\n",
    "    print(len(subset), powers.columns[list(subset)].values, \":\", score)\n",
    "\n",
    "plt.plot(range(1,11), list_scores)\n",
    "plt.xlabel(\"Number of Predictors\")\n",
    "plt.ylabel(\"BIC\")\n",
    "xmax = list(range(1,11))[np.argmin(list_scores)]\n",
    "ymax = min(list_scores)\n",
    "\n",
    "plt.scatter(xmax, ymax, marker=\"x\", c=\"r\")"
   ]
  },
  {
   "cell_type": "code",
   "execution_count": 454,
   "metadata": {},
   "outputs": [],
   "source": [
    "def best_subset_Cp(estimator, X, y, max_size=8, cv=5):\n",
    "    n_features = X.shape[1]\n",
    "    subsets = (combinations(range(n_features), k + 1) for k in range(min(n_features, max_size)))\n",
    "\n",
    "    best_size_subset = []\n",
    "    for subsets_k in subsets:  # for each list of subsets of the same size\n",
    "        best_score = np.inf\n",
    "        best_subset = None\n",
    "        for subset in subsets_k: # for each subset\n",
    "            estimator.fit(X.iloc[:, list(subset)], y)\n",
    "            # get the subset with the best score among subsets of the same size\n",
    "\n",
    "            #calculate BIC\n",
    "            ypred = estimator.predict(X.iloc[:, list(subset)])\n",
    "\n",
    "            rss = sum(np.square(ypred-y))\n",
    "            mse = mean_squared_error(y, ypred)\n",
    "            score = 1/len(X) * (rss+(2*len(subset)*mse))\n",
    "            if score < best_score:\n",
    "                best_score, best_subset = score, subset\n",
    "        # to compare subsets of different sizes we must use CV\n",
    "        # first store the best subset of each size\n",
    "        best_size_subset.append(best_subset)\n",
    "        \n",
    "    # compare best subsets of each size\n",
    "    best_score = np.inf\n",
    "    best_subset = None\n",
    "    list_scores = []\n",
    "    for subset in best_size_subset:\n",
    "        estimator.fit(X.iloc[:, list(subset)], y)\n",
    "\n",
    "        #calcualte adj r2\n",
    "        ypred = estimator.predict(X.iloc[:, list(subset)])\n",
    "\n",
    "        rss = sum(np.square(ypred-y))\n",
    "        mse = mean_squared_error(y, ypred)\n",
    "        score = 1/len(X) * (rss+(2*len(subset)*mse))\n",
    "        list_scores.append(score)\n",
    "        if score < best_score:\n",
    "            best_score, best_subset, best_coeff = score, subset, [estimator.intercept_] + list(estimator.coef_)\n",
    "\n",
    "    return best_subset, best_score, best_size_subset, list_scores, best_coeff\n",
    "\n"
   ]
  },
  {
   "cell_type": "code",
   "execution_count": 455,
   "metadata": {},
   "outputs": [
    {
     "name": "stdout",
     "output_type": "stream",
     "text": [
      "Best model according to Cp: ['X^1' 'X^2' 'X^3' 'X^9'] with BIC of 0.7953559327995403\n",
      "Best model coefficients: [4.201671387279621, 7.794343936619579, 15.90186408722467, 32.15723071002788, -0.0014040259551926226]\n",
      "Best models for Cp:\n",
      "1 ['X^3'] : 418.546324563729\n",
      "2 ['X^2' 'X^3'] : 17.565101174178995\n",
      "3 ['X^1' 'X^2' 'X^3'] : 0.806656022069826\n",
      "4 ['X^1' 'X^2' 'X^3' 'X^9'] : 0.7953559327995403\n",
      "5 ['X^1' 'X^2' 'X^3' 'X^7' 'X^8'] : 0.8030941140153525\n",
      "6 ['X^1' 'X^2' 'X^3' 'X^4' 'X^6' 'X^7'] : 0.8170821499372675\n",
      "7 ['X^1' 'X^2' 'X^3' 'X^5' 'X^7' 'X^8' 'X^9'] : 0.8253870643721402\n",
      "8 ['X^1' 'X^2' 'X^3' 'X^4' 'X^5' 'X^6' 'X^7' 'X^9'] : 0.8389070207391819\n",
      "9 ['X^1' 'X^2' 'X^3' 'X^5' 'X^6' 'X^7' 'X^8' 'X^9' 'X^10'] : 0.8509370941838437\n",
      "10 ['X^1' 'X^2' 'X^3' 'X^4' 'X^5' 'X^6' 'X^7' 'X^8' 'X^9' 'X^10'] : 0.8637737414027814\n"
     ]
    },
    {
     "data": {
      "text/plain": [
       "<matplotlib.collections.PathCollection at 0x22c510249d0>"
      ]
     },
     "execution_count": 455,
     "metadata": {},
     "output_type": "execute_result"
    },
    {
     "data": {
      "image/png": "[encoded data removed]",
      "text/plain": [
       "<Figure size 640x480 with 1 Axes>"
      ]
     },
     "metadata": {},
     "output_type": "display_data"
    }
   ],
   "source": [
    "best_sub, best_score, best_size, list_scores, best_coeff = best_subset_Cp(lm, powers, y, max_size=10, cv=5)\n",
    "print(\"Best model according to Cp:\",powers.columns[list(best_sub)].values, \"with BIC of\", best_score)\n",
    "print(\"Best model coefficients: {}\".format(best_coeff))\n",
    "print(\"Best models for Cp:\")\n",
    "for subset, score in zip(best_size, list_scores):\n",
    "    print(len(subset), powers.columns[list(subset)].values, \":\", score)\n",
    "\n",
    "plt.plot(range(1,11), list_scores)\n",
    "plt.xlabel(\"Number of Predictors\")\n",
    "plt.ylabel(\"Cp\")\n",
    "xmax = list(range(1,11))[np.argmin(list_scores)]\n",
    "ymax = min(list_scores)\n",
    "plt.scatter(xmax, ymax, marker=\"x\", c=\"r\")"
   ]
  },
  {
   "cell_type": "markdown",
   "metadata": {},
   "source": [
    "<p>The best model according to BIC is with Y= &#946<sub>0</sub> + &#946<sub>1</sub>X + &#946<sub>2</sub>X<sup>2</sup> +  &#946<sub>3</sub>X<sup>3</sup> + &#949</p>\n",
    "<p>The best model according to R<sup>2</sup> and C<sub>p</sub> is Y= &#946<sub>0</sub> + &#946<sub>1</sub>X + &#946<sub>2</sub>X<sup>2</sup> +  &#946<sub>3</sub>X<sup>3</sup> +  &#946<sub>4</sub>X<sup>4</sup> + &#949</p>"
   ]
  },
  {
   "cell_type": "markdown",
   "metadata": {},
   "source": [
    "4c.\n",
    "\n",
    "BIC Forwards:"
   ]
  },
  {
   "cell_type": "code",
   "execution_count": 456,
   "metadata": {},
   "outputs": [
    {
     "name": "stderr",
     "output_type": "stream",
     "text": [
      "c:\\Python310\\lib\\site-packages\\numpy\\core\\_methods.py:265: RuntimeWarning: Degrees of freedom <= 0 for slice\n",
      "  ret = _var(a, axis=axis, dtype=dtype, out=out, ddof=ddof,\n",
      "c:\\Python310\\lib\\site-packages\\numpy\\core\\_methods.py:257: RuntimeWarning: invalid value encountered in double_scalars\n",
      "  ret = ret.dtype.type(ret / rcount)\n"
     ]
    },
    {
     "name": "stdout",
     "output_type": "stream",
     "text": [
      "Best model according to forwards stepwise BIC: ('X^1', 'X^2', 'X^3', 'X^4', 'X^5', 'X^6', 'X^7', 'X^8', 'X^9', 'X^10')\n",
      "Best fit coefficients: [4.1609911021504296, 8.049862941504776, 16.27075977567907, 31.31075290009626, -0.8226925280843381, 0.6912462035329752, 0.61946707179958, -0.20432925571432037, -0.16922328292726485, 0.01797863011542944, 0.01487234221415945]\n"
     ]
    },
    {
     "name": "stderr",
     "output_type": "stream",
     "text": [
      "c:\\Python310\\lib\\site-packages\\numpy\\core\\_methods.py:265: RuntimeWarning: Degrees of freedom <= 0 for slice\n",
      "  ret = _var(a, axis=axis, dtype=dtype, out=out, ddof=ddof,\n",
      "c:\\Python310\\lib\\site-packages\\numpy\\core\\_methods.py:257: RuntimeWarning: invalid value encountered in double_scalars\n",
      "  ret = ret.dtype.type(ret / rcount)\n"
     ]
    },
    {
     "data": {
      "text/html": [
       "<div>\n",
       "<style scoped>\n",
       "    .dataframe tbody tr th:only-of-type {\n",
       "        vertical-align: middle;\n",
       "    }\n",
       "\n",
       "    .dataframe tbody tr th {\n",
       "        vertical-align: top;\n",
       "    }\n",
       "\n",
       "    .dataframe thead th {\n",
       "        text-align: right;\n",
       "    }\n",
       "</style>\n",
       "<table border=\"1\" class=\"dataframe\">\n",
       "  <thead>\n",
       "    <tr style=\"text-align: right;\">\n",
       "      <th></th>\n",
       "      <th>feature_idx</th>\n",
       "      <th>cv_scores</th>\n",
       "      <th>avg_score</th>\n",
       "      <th>feature_names</th>\n",
       "      <th>ci_bound</th>\n",
       "      <th>std_dev</th>\n",
       "      <th>std_err</th>\n",
       "    </tr>\n",
       "  </thead>\n",
       "  <tbody>\n",
       "    <tr>\n",
       "      <th>1</th>\n",
       "      <td>(2,)</td>\n",
       "      <td>[-492.4074406632106]</td>\n",
       "      <td>-492.407441</td>\n",
       "      <td>(X^3,)</td>\n",
       "      <td>NaN</td>\n",
       "      <td>0.0</td>\n",
       "      <td>NaN</td>\n",
       "    </tr>\n",
       "    <tr>\n",
       "      <th>2</th>\n",
       "      <td>(1, 2)</td>\n",
       "      <td>[-20.267424431744995]</td>\n",
       "      <td>-20.267424</td>\n",
       "      <td>(X^2, X^3)</td>\n",
       "      <td>NaN</td>\n",
       "      <td>0.0</td>\n",
       "      <td>NaN</td>\n",
       "    </tr>\n",
       "    <tr>\n",
       "      <th>3</th>\n",
       "      <td>(0, 1, 2)</td>\n",
       "      <td>[-0.9131954966828219]</td>\n",
       "      <td>-0.913195</td>\n",
       "      <td>(X^1, X^2, X^3)</td>\n",
       "      <td>NaN</td>\n",
       "      <td>0.0</td>\n",
       "      <td>NaN</td>\n",
       "    </tr>\n",
       "    <tr>\n",
       "      <th>4</th>\n",
       "      <td>(0, 1, 2, 8)</td>\n",
       "      <td>[-0.8837288142217113]</td>\n",
       "      <td>-0.883729</td>\n",
       "      <td>(X^1, X^2, X^3, X^9)</td>\n",
       "      <td>NaN</td>\n",
       "      <td>0.0</td>\n",
       "      <td>NaN</td>\n",
       "    </tr>\n",
       "    <tr>\n",
       "      <th>5</th>\n",
       "      <td>(0, 1, 2, 7, 8)</td>\n",
       "      <td>[-0.8770448233110522]</td>\n",
       "      <td>-0.877045</td>\n",
       "      <td>(X^1, X^2, X^3, X^8, X^9)</td>\n",
       "      <td>NaN</td>\n",
       "      <td>0.0</td>\n",
       "      <td>NaN</td>\n",
       "    </tr>\n",
       "    <tr>\n",
       "      <th>6</th>\n",
       "      <td>(0, 1, 2, 6, 7, 8)</td>\n",
       "      <td>[-0.8756045531795711]</td>\n",
       "      <td>-0.875605</td>\n",
       "      <td>(X^1, X^2, X^3, X^7, X^8, X^9)</td>\n",
       "      <td>NaN</td>\n",
       "      <td>0.0</td>\n",
       "      <td>NaN</td>\n",
       "    </tr>\n",
       "    <tr>\n",
       "      <th>7</th>\n",
       "      <td>(0, 1, 2, 4, 6, 7, 8)</td>\n",
       "      <td>[-0.8688284888127791]</td>\n",
       "      <td>-0.868828</td>\n",
       "      <td>(X^1, X^2, X^3, X^5, X^7, X^8, X^9)</td>\n",
       "      <td>NaN</td>\n",
       "      <td>0.0</td>\n",
       "      <td>NaN</td>\n",
       "    </tr>\n",
       "    <tr>\n",
       "      <th>8</th>\n",
       "      <td>(0, 1, 2, 3, 4, 6, 7, 8)</td>\n",
       "      <td>[-0.8682328831732236]</td>\n",
       "      <td>-0.868233</td>\n",
       "      <td>(X^1, X^2, X^3, X^4, X^5, X^7, X^8, X^9)</td>\n",
       "      <td>NaN</td>\n",
       "      <td>0.0</td>\n",
       "      <td>NaN</td>\n",
       "    </tr>\n",
       "    <tr>\n",
       "      <th>9</th>\n",
       "      <td>(0, 1, 2, 3, 4, 6, 7, 8, 9)</td>\n",
       "      <td>[-0.8663613055970726]</td>\n",
       "      <td>-0.866361</td>\n",
       "      <td>(X^1, X^2, X^3, X^4, X^5, X^7, X^8, X^9, X^10)</td>\n",
       "      <td>NaN</td>\n",
       "      <td>0.0</td>\n",
       "      <td>NaN</td>\n",
       "    </tr>\n",
       "    <tr>\n",
       "      <th>10</th>\n",
       "      <td>(0, 1, 2, 3, 4, 5, 6, 7, 8, 9)</td>\n",
       "      <td>[-0.8637737414027814]</td>\n",
       "      <td>-0.863774</td>\n",
       "      <td>(X^1, X^2, X^3, X^4, X^5, X^6, X^7, X^8, X^9, ...</td>\n",
       "      <td>NaN</td>\n",
       "      <td>0.0</td>\n",
       "      <td>NaN</td>\n",
       "    </tr>\n",
       "  </tbody>\n",
       "</table>\n",
       "</div>"
      ],
      "text/plain": [
       "                       feature_idx              cv_scores   avg_score  \\\n",
       "1                             (2,)   [-492.4074406632106] -492.407441   \n",
       "2                           (1, 2)  [-20.267424431744995]  -20.267424   \n",
       "3                        (0, 1, 2)  [-0.9131954966828219]   -0.913195   \n",
       "4                     (0, 1, 2, 8)  [-0.8837288142217113]   -0.883729   \n",
       "5                  (0, 1, 2, 7, 8)  [-0.8770448233110522]   -0.877045   \n",
       "6               (0, 1, 2, 6, 7, 8)  [-0.8756045531795711]   -0.875605   \n",
       "7            (0, 1, 2, 4, 6, 7, 8)  [-0.8688284888127791]   -0.868828   \n",
       "8         (0, 1, 2, 3, 4, 6, 7, 8)  [-0.8682328831732236]   -0.868233   \n",
       "9      (0, 1, 2, 3, 4, 6, 7, 8, 9)  [-0.8663613055970726]   -0.866361   \n",
       "10  (0, 1, 2, 3, 4, 5, 6, 7, 8, 9)  [-0.8637737414027814]   -0.863774   \n",
       "\n",
       "                                        feature_names ci_bound std_dev std_err  \n",
       "1                                              (X^3,)      NaN     0.0     NaN  \n",
       "2                                          (X^2, X^3)      NaN     0.0     NaN  \n",
       "3                                     (X^1, X^2, X^3)      NaN     0.0     NaN  \n",
       "4                                (X^1, X^2, X^3, X^9)      NaN     0.0     NaN  \n",
       "5                           (X^1, X^2, X^3, X^8, X^9)      NaN     0.0     NaN  \n",
       "6                      (X^1, X^2, X^3, X^7, X^8, X^9)      NaN     0.0     NaN  \n",
       "7                 (X^1, X^2, X^3, X^5, X^7, X^8, X^9)      NaN     0.0     NaN  \n",
       "8            (X^1, X^2, X^3, X^4, X^5, X^7, X^8, X^9)      NaN     0.0     NaN  \n",
       "9      (X^1, X^2, X^3, X^4, X^5, X^7, X^8, X^9, X^10)      NaN     0.0     NaN  \n",
       "10  (X^1, X^2, X^3, X^4, X^5, X^6, X^7, X^8, X^9, ...      NaN     0.0     NaN  "
      ]
     },
     "execution_count": 456,
     "metadata": {},
     "output_type": "execute_result"
    },
    {
     "data": {
      "image/png": "[encoded data removed]",
      "text/plain": [
       "<Figure size 640x480 with 1 Axes>"
      ]
     },
     "metadata": {},
     "output_type": "display_data"
    }
   ],
   "source": [
    "def BIC_scorer(estimator, X, y):\n",
    "    estimator.fit(X,y)\n",
    "    ypred = estimator.predict(X)\n",
    "    rss = sum(np.square(ypred-y))\n",
    "    mse = mean_squared_error(y, ypred)\n",
    "    score = 1/len(X) * (rss+(2*len(subset)*mse))\n",
    "\n",
    "    #negate our BIC calcualation to conform to sklearn scorer signature (greater is better)\n",
    "    return -score\n",
    "\n",
    "X=powers    \n",
    "sfs1 = SFS(lm, k_features=10, forward=True, floating=False, scoring=BIC_scorer, cv=0)\n",
    "sfs1=sfs1.fit(X,y)\n",
    "d = pd.DataFrame.from_dict(sfs1.get_metric_dict()).T\n",
    "\n",
    "lm.fit(X.iloc[:, list(d.iloc[np.argmax(d[\"avg_score\"]),0])], y)\n",
    "print(\"Best model according to forwards stepwise BIC:\", d.iloc[np.argmax(d[\"avg_score\"]),3])\n",
    "print(\"Best fit coefficients:\",[lm.intercept_] + list(lm.coef_))\n",
    "\n",
    "\n",
    "d['avg_score'] = d['avg_score']*-1 #un-negate BIC calculation \n",
    "d.plot(y='avg_score')\n",
    "plt.xlabel(\"Number of Predictors\")\n",
    "plt.ylabel(\"BIC\")\n",
    "xmax = list(range(1,11))[np.argmin(d[\"avg_score\"])]\n",
    "ymax = min(d[\"avg_score\"])\n",
    "\n",
    "plt.scatter(xmax, ymax, marker=\"x\", c=\"r\")\n",
    "pd.DataFrame.from_dict(sfs1.get_metric_dict()).T\n",
    "\n"
   ]
  },
  {
   "cell_type": "markdown",
   "metadata": {},
   "source": [
    "BIC Backwards:"
   ]
  },
  {
   "cell_type": "code",
   "execution_count": 457,
   "metadata": {},
   "outputs": [
    {
     "name": "stdout",
     "output_type": "stream",
     "text": [
      "Best model according to forwards stepwise BIC: ('X^1', 'X^2', 'X^3', 'X^4', 'X^5', 'X^6', 'X^7', 'X^8', 'X^9', 'X^10')\n",
      "Best fit coefficients: [4.1609911021504296, 8.049862941504776, 16.27075977567907, 31.31075290009626, -0.8226925280843381, 0.6912462035329752, 0.61946707179958, -0.20432925571432037, -0.16922328292726485, 0.01797863011542944, 0.01487234221415945]\n"
     ]
    },
    {
     "name": "stderr",
     "output_type": "stream",
     "text": [
      "c:\\Python310\\lib\\site-packages\\numpy\\core\\_methods.py:265: RuntimeWarning: Degrees of freedom <= 0 for slice\n",
      "  ret = _var(a, axis=axis, dtype=dtype, out=out, ddof=ddof,\n",
      "c:\\Python310\\lib\\site-packages\\numpy\\core\\_methods.py:257: RuntimeWarning: invalid value encountered in double_scalars\n",
      "  ret = ret.dtype.type(ret / rcount)\n",
      "c:\\Python310\\lib\\site-packages\\numpy\\core\\_methods.py:265: RuntimeWarning: Degrees of freedom <= 0 for slice\n",
      "  ret = _var(a, axis=axis, dtype=dtype, out=out, ddof=ddof,\n",
      "c:\\Python310\\lib\\site-packages\\numpy\\core\\_methods.py:257: RuntimeWarning: invalid value encountered in double_scalars\n",
      "  ret = ret.dtype.type(ret / rcount)\n"
     ]
    },
    {
     "data": {
      "text/html": [
       "<div>\n",
       "<style scoped>\n",
       "    .dataframe tbody tr th:only-of-type {\n",
       "        vertical-align: middle;\n",
       "    }\n",
       "\n",
       "    .dataframe tbody tr th {\n",
       "        vertical-align: top;\n",
       "    }\n",
       "\n",
       "    .dataframe thead th {\n",
       "        text-align: right;\n",
       "    }\n",
       "</style>\n",
       "<table border=\"1\" class=\"dataframe\">\n",
       "  <thead>\n",
       "    <tr style=\"text-align: right;\">\n",
       "      <th></th>\n",
       "      <th>feature_idx</th>\n",
       "      <th>cv_scores</th>\n",
       "      <th>avg_score</th>\n",
       "      <th>feature_names</th>\n",
       "      <th>ci_bound</th>\n",
       "      <th>std_dev</th>\n",
       "      <th>std_err</th>\n",
       "    </tr>\n",
       "  </thead>\n",
       "  <tbody>\n",
       "    <tr>\n",
       "      <th>10</th>\n",
       "      <td>(0, 1, 2, 3, 4, 5, 6, 7, 8, 9)</td>\n",
       "      <td>[-0.8637737414027814]</td>\n",
       "      <td>-0.863774</td>\n",
       "      <td>(X^1, X^2, X^3, X^4, X^5, X^6, X^7, X^8, X^9, ...</td>\n",
       "      <td>NaN</td>\n",
       "      <td>0.0</td>\n",
       "      <td>NaN</td>\n",
       "    </tr>\n",
       "    <tr>\n",
       "      <th>9</th>\n",
       "      <td>(0, 1, 2, 4, 5, 6, 7, 8, 9)</td>\n",
       "      <td>[-0.8653597567971291]</td>\n",
       "      <td>-0.86536</td>\n",
       "      <td>(X^1, X^2, X^3, X^5, X^6, X^7, X^8, X^9, X^10)</td>\n",
       "      <td>NaN</td>\n",
       "      <td>0.0</td>\n",
       "      <td>NaN</td>\n",
       "    </tr>\n",
       "    <tr>\n",
       "      <th>8</th>\n",
       "      <td>(0, 1, 2, 4, 5, 6, 7, 8)</td>\n",
       "      <td>[-0.868499298141012]</td>\n",
       "      <td>-0.868499</td>\n",
       "      <td>(X^1, X^2, X^3, X^5, X^6, X^7, X^8, X^9)</td>\n",
       "      <td>NaN</td>\n",
       "      <td>0.0</td>\n",
       "      <td>NaN</td>\n",
       "    </tr>\n",
       "    <tr>\n",
       "      <th>7</th>\n",
       "      <td>(0, 1, 2, 4, 6, 7, 8)</td>\n",
       "      <td>[-0.8688284888127791]</td>\n",
       "      <td>-0.868828</td>\n",
       "      <td>(X^1, X^2, X^3, X^5, X^7, X^8, X^9)</td>\n",
       "      <td>NaN</td>\n",
       "      <td>0.0</td>\n",
       "      <td>NaN</td>\n",
       "    </tr>\n",
       "    <tr>\n",
       "      <th>6</th>\n",
       "      <td>(0, 1, 2, 6, 7, 8)</td>\n",
       "      <td>[-0.8756045531795711]</td>\n",
       "      <td>-0.875605</td>\n",
       "      <td>(X^1, X^2, X^3, X^7, X^8, X^9)</td>\n",
       "      <td>NaN</td>\n",
       "      <td>0.0</td>\n",
       "      <td>NaN</td>\n",
       "    </tr>\n",
       "    <tr>\n",
       "      <th>5</th>\n",
       "      <td>(0, 1, 2, 6, 7)</td>\n",
       "      <td>[-0.8761026698349299]</td>\n",
       "      <td>-0.876103</td>\n",
       "      <td>(X^1, X^2, X^3, X^7, X^8)</td>\n",
       "      <td>NaN</td>\n",
       "      <td>0.0</td>\n",
       "      <td>NaN</td>\n",
       "    </tr>\n",
       "    <tr>\n",
       "      <th>4</th>\n",
       "      <td>(0, 1, 2, 6)</td>\n",
       "      <td>[-0.8837567113920858]</td>\n",
       "      <td>-0.883757</td>\n",
       "      <td>(X^1, X^2, X^3, X^7)</td>\n",
       "      <td>NaN</td>\n",
       "      <td>0.0</td>\n",
       "      <td>NaN</td>\n",
       "    </tr>\n",
       "    <tr>\n",
       "      <th>3</th>\n",
       "      <td>(0, 1, 2)</td>\n",
       "      <td>[-0.9131954966828219]</td>\n",
       "      <td>-0.913195</td>\n",
       "      <td>(X^1, X^2, X^3)</td>\n",
       "      <td>NaN</td>\n",
       "      <td>0.0</td>\n",
       "      <td>NaN</td>\n",
       "    </tr>\n",
       "    <tr>\n",
       "      <th>2</th>\n",
       "      <td>(1, 2)</td>\n",
       "      <td>[-20.267424431744995]</td>\n",
       "      <td>-20.267424</td>\n",
       "      <td>(X^2, X^3)</td>\n",
       "      <td>NaN</td>\n",
       "      <td>0.0</td>\n",
       "      <td>NaN</td>\n",
       "    </tr>\n",
       "    <tr>\n",
       "      <th>1</th>\n",
       "      <td>(2,)</td>\n",
       "      <td>[-492.4074406632106]</td>\n",
       "      <td>-492.407441</td>\n",
       "      <td>(X^3,)</td>\n",
       "      <td>NaN</td>\n",
       "      <td>0.0</td>\n",
       "      <td>NaN</td>\n",
       "    </tr>\n",
       "  </tbody>\n",
       "</table>\n",
       "</div>"
      ],
      "text/plain": [
       "                       feature_idx              cv_scores   avg_score  \\\n",
       "10  (0, 1, 2, 3, 4, 5, 6, 7, 8, 9)  [-0.8637737414027814]   -0.863774   \n",
       "9      (0, 1, 2, 4, 5, 6, 7, 8, 9)  [-0.8653597567971291]    -0.86536   \n",
       "8         (0, 1, 2, 4, 5, 6, 7, 8)   [-0.868499298141012]   -0.868499   \n",
       "7            (0, 1, 2, 4, 6, 7, 8)  [-0.8688284888127791]   -0.868828   \n",
       "6               (0, 1, 2, 6, 7, 8)  [-0.8756045531795711]   -0.875605   \n",
       "5                  (0, 1, 2, 6, 7)  [-0.8761026698349299]   -0.876103   \n",
       "4                     (0, 1, 2, 6)  [-0.8837567113920858]   -0.883757   \n",
       "3                        (0, 1, 2)  [-0.9131954966828219]   -0.913195   \n",
       "2                           (1, 2)  [-20.267424431744995]  -20.267424   \n",
       "1                             (2,)   [-492.4074406632106] -492.407441   \n",
       "\n",
       "                                        feature_names ci_bound std_dev std_err  \n",
       "10  (X^1, X^2, X^3, X^4, X^5, X^6, X^7, X^8, X^9, ...      NaN     0.0     NaN  \n",
       "9      (X^1, X^2, X^3, X^5, X^6, X^7, X^8, X^9, X^10)      NaN     0.0     NaN  \n",
       "8            (X^1, X^2, X^3, X^5, X^6, X^7, X^8, X^9)      NaN     0.0     NaN  \n",
       "7                 (X^1, X^2, X^3, X^5, X^7, X^8, X^9)      NaN     0.0     NaN  \n",
       "6                      (X^1, X^2, X^3, X^7, X^8, X^9)      NaN     0.0     NaN  \n",
       "5                           (X^1, X^2, X^3, X^7, X^8)      NaN     0.0     NaN  \n",
       "4                                (X^1, X^2, X^3, X^7)      NaN     0.0     NaN  \n",
       "3                                     (X^1, X^2, X^3)      NaN     0.0     NaN  \n",
       "2                                          (X^2, X^3)      NaN     0.0     NaN  \n",
       "1                                              (X^3,)      NaN     0.0     NaN  "
      ]
     },
     "execution_count": 457,
     "metadata": {},
     "output_type": "execute_result"
    },
    {
     "data": {
      "image/png": "[encoded data removed]",
      "text/plain": [
       "<Figure size 640x480 with 1 Axes>"
      ]
     },
     "metadata": {},
     "output_type": "display_data"
    }
   ],
   "source": [
    "sfs1 = SFS(lm, k_features=1, forward=False, floating=False, scoring=BIC_scorer, cv=0)\n",
    "sfs1=sfs1.fit(X,y)\n",
    "d = pd.DataFrame.from_dict(sfs1.get_metric_dict()).T\n",
    "\n",
    "lm.fit(X.iloc[:, list(d.iloc[np.argmax(d[\"avg_score\"]),0])], y)\n",
    "print(\"Best model according to forwards stepwise BIC:\", d.iloc[np.argmax(d[\"avg_score\"]),3])\n",
    "print(\"Best fit coefficients:\",[lm.intercept_] + list(lm.coef_))\n",
    "\n",
    "\n",
    "d['avg_score'] = d['avg_score']*-1 #un-negate BIC calculation \n",
    "d.plot(y='avg_score')\n",
    "plt.xlabel(\"Number of Predictors\")\n",
    "plt.ylabel(\"BIC\")\n",
    "xmax = 11 - list(range(1,11))[np.argmin(d[\"avg_score\"])]\n",
    "ymax = min(d[\"avg_score\"])\n",
    "\n",
    "plt.scatter(xmax, ymax, marker=\"x\", c=\"r\")\n",
    "pd.DataFrame.from_dict(sfs1.get_metric_dict()).T\n",
    "\n"
   ]
  },
  {
   "cell_type": "markdown",
   "metadata": {},
   "source": [
    "R^2 Forwards"
   ]
  },
  {
   "cell_type": "code",
   "execution_count": 458,
   "metadata": {},
   "outputs": [
    {
     "name": "stdout",
     "output_type": "stream",
     "text": [
      "Best model according to forwards stepwise R^2: ('X^1', 'X^2', 'X^3', 'X^9')\n",
      "Best fit coefficients: [4.201671387279621, 7.794343936619579, 15.90186408722467, 32.15723071002788, -0.0014040259551926226]\n"
     ]
    },
    {
     "name": "stderr",
     "output_type": "stream",
     "text": [
      "c:\\Python310\\lib\\site-packages\\numpy\\core\\_methods.py:265: RuntimeWarning: Degrees of freedom <= 0 for slice\n",
      "  ret = _var(a, axis=axis, dtype=dtype, out=out, ddof=ddof,\n",
      "c:\\Python310\\lib\\site-packages\\numpy\\core\\_methods.py:257: RuntimeWarning: invalid value encountered in double_scalars\n",
      "  ret = ret.dtype.type(ret / rcount)\n",
      "c:\\Python310\\lib\\site-packages\\numpy\\core\\_methods.py:265: RuntimeWarning: Degrees of freedom <= 0 for slice\n",
      "  ret = _var(a, axis=axis, dtype=dtype, out=out, ddof=ddof,\n",
      "c:\\Python310\\lib\\site-packages\\numpy\\core\\_methods.py:257: RuntimeWarning: invalid value encountered in double_scalars\n",
      "  ret = ret.dtype.type(ret / rcount)\n"
     ]
    },
    {
     "data": {
      "text/html": [
       "<div>\n",
       "<style scoped>\n",
       "    .dataframe tbody tr th:only-of-type {\n",
       "        vertical-align: middle;\n",
       "    }\n",
       "\n",
       "    .dataframe tbody tr th {\n",
       "        vertical-align: top;\n",
       "    }\n",
       "\n",
       "    .dataframe thead th {\n",
       "        text-align: right;\n",
       "    }\n",
       "</style>\n",
       "<table border=\"1\" class=\"dataframe\">\n",
       "  <thead>\n",
       "    <tr style=\"text-align: right;\">\n",
       "      <th></th>\n",
       "      <th>feature_idx</th>\n",
       "      <th>cv_scores</th>\n",
       "      <th>avg_score</th>\n",
       "      <th>feature_names</th>\n",
       "      <th>ci_bound</th>\n",
       "      <th>std_dev</th>\n",
       "      <th>std_err</th>\n",
       "    </tr>\n",
       "  </thead>\n",
       "  <tbody>\n",
       "    <tr>\n",
       "      <th>1</th>\n",
       "      <td>(2,)</td>\n",
       "      <td>[0.9619261871023221]</td>\n",
       "      <td>0.961926</td>\n",
       "      <td>(X^3,)</td>\n",
       "      <td>NaN</td>\n",
       "      <td>0.0</td>\n",
       "      <td>NaN</td>\n",
       "    </tr>\n",
       "    <tr>\n",
       "      <th>2</th>\n",
       "      <td>(1, 2)</td>\n",
       "      <td>[0.9984167311462807]</td>\n",
       "      <td>0.998417</td>\n",
       "      <td>(X^2, X^3)</td>\n",
       "      <td>NaN</td>\n",
       "      <td>0.0</td>\n",
       "      <td>NaN</td>\n",
       "    </tr>\n",
       "    <tr>\n",
       "      <th>3</th>\n",
       "      <td>(0, 1, 2)</td>\n",
       "      <td>[0.9999279190721606]</td>\n",
       "      <td>0.999928</td>\n",
       "      <td>(X^1, X^2, X^3)</td>\n",
       "      <td>NaN</td>\n",
       "      <td>0.0</td>\n",
       "      <td>NaN</td>\n",
       "    </tr>\n",
       "    <tr>\n",
       "      <th>4</th>\n",
       "      <td>(0, 1, 2, 8)</td>\n",
       "      <td>[0.9999295106914541]</td>\n",
       "      <td>0.99993</td>\n",
       "      <td>(X^1, X^2, X^3, X^9)</td>\n",
       "      <td>NaN</td>\n",
       "      <td>0.0</td>\n",
       "      <td>NaN</td>\n",
       "    </tr>\n",
       "    <tr>\n",
       "      <th>5</th>\n",
       "      <td>(0, 1, 2, 7, 8)</td>\n",
       "      <td>[0.9999292996154285]</td>\n",
       "      <td>0.999929</td>\n",
       "      <td>(X^1, X^2, X^3, X^8, X^9)</td>\n",
       "      <td>NaN</td>\n",
       "      <td>0.0</td>\n",
       "      <td>NaN</td>\n",
       "    </tr>\n",
       "    <tr>\n",
       "      <th>6</th>\n",
       "      <td>(0, 1, 2, 6, 7, 8)</td>\n",
       "      <td>[0.9999286567477939]</td>\n",
       "      <td>0.999929</td>\n",
       "      <td>(X^1, X^2, X^3, X^7, X^8, X^9)</td>\n",
       "      <td>NaN</td>\n",
       "      <td>0.0</td>\n",
       "      <td>NaN</td>\n",
       "    </tr>\n",
       "    <tr>\n",
       "      <th>7</th>\n",
       "      <td>(0, 1, 2, 4, 6, 7, 8)</td>\n",
       "      <td>[0.999928439384746]</td>\n",
       "      <td>0.999928</td>\n",
       "      <td>(X^1, X^2, X^3, X^5, X^7, X^8, X^9)</td>\n",
       "      <td>NaN</td>\n",
       "      <td>0.0</td>\n",
       "      <td>NaN</td>\n",
       "    </tr>\n",
       "    <tr>\n",
       "      <th>8</th>\n",
       "      <td>(0, 1, 2, 3, 4, 6, 7, 8)</td>\n",
       "      <td>[0.9999277026001985]</td>\n",
       "      <td>0.999928</td>\n",
       "      <td>(X^1, X^2, X^3, X^4, X^5, X^7, X^8, X^9)</td>\n",
       "      <td>NaN</td>\n",
       "      <td>0.0</td>\n",
       "      <td>NaN</td>\n",
       "    </tr>\n",
       "    <tr>\n",
       "      <th>9</th>\n",
       "      <td>(0, 1, 2, 3, 4, 6, 7, 8, 9)</td>\n",
       "      <td>[0.9999270568728781]</td>\n",
       "      <td>0.999927</td>\n",
       "      <td>(X^1, X^2, X^3, X^4, X^5, X^7, X^8, X^9, X^10)</td>\n",
       "      <td>NaN</td>\n",
       "      <td>0.0</td>\n",
       "      <td>NaN</td>\n",
       "    </tr>\n",
       "    <tr>\n",
       "      <th>10</th>\n",
       "      <td>(0, 1, 2, 3, 4, 5, 6, 7, 8, 9)</td>\n",
       "      <td>[0.9999264575945199]</td>\n",
       "      <td>0.999926</td>\n",
       "      <td>(X^1, X^2, X^3, X^4, X^5, X^6, X^7, X^8, X^9, ...</td>\n",
       "      <td>NaN</td>\n",
       "      <td>0.0</td>\n",
       "      <td>NaN</td>\n",
       "    </tr>\n",
       "  </tbody>\n",
       "</table>\n",
       "</div>"
      ],
      "text/plain": [
       "                       feature_idx             cv_scores avg_score  \\\n",
       "1                             (2,)  [0.9619261871023221]  0.961926   \n",
       "2                           (1, 2)  [0.9984167311462807]  0.998417   \n",
       "3                        (0, 1, 2)  [0.9999279190721606]  0.999928   \n",
       "4                     (0, 1, 2, 8)  [0.9999295106914541]   0.99993   \n",
       "5                  (0, 1, 2, 7, 8)  [0.9999292996154285]  0.999929   \n",
       "6               (0, 1, 2, 6, 7, 8)  [0.9999286567477939]  0.999929   \n",
       "7            (0, 1, 2, 4, 6, 7, 8)   [0.999928439384746]  0.999928   \n",
       "8         (0, 1, 2, 3, 4, 6, 7, 8)  [0.9999277026001985]  0.999928   \n",
       "9      (0, 1, 2, 3, 4, 6, 7, 8, 9)  [0.9999270568728781]  0.999927   \n",
       "10  (0, 1, 2, 3, 4, 5, 6, 7, 8, 9)  [0.9999264575945199]  0.999926   \n",
       "\n",
       "                                        feature_names ci_bound std_dev std_err  \n",
       "1                                              (X^3,)      NaN     0.0     NaN  \n",
       "2                                          (X^2, X^3)      NaN     0.0     NaN  \n",
       "3                                     (X^1, X^2, X^3)      NaN     0.0     NaN  \n",
       "4                                (X^1, X^2, X^3, X^9)      NaN     0.0     NaN  \n",
       "5                           (X^1, X^2, X^3, X^8, X^9)      NaN     0.0     NaN  \n",
       "6                      (X^1, X^2, X^3, X^7, X^8, X^9)      NaN     0.0     NaN  \n",
       "7                 (X^1, X^2, X^3, X^5, X^7, X^8, X^9)      NaN     0.0     NaN  \n",
       "8            (X^1, X^2, X^3, X^4, X^5, X^7, X^8, X^9)      NaN     0.0     NaN  \n",
       "9      (X^1, X^2, X^3, X^4, X^5, X^7, X^8, X^9, X^10)      NaN     0.0     NaN  \n",
       "10  (X^1, X^2, X^3, X^4, X^5, X^6, X^7, X^8, X^9, ...      NaN     0.0     NaN  "
      ]
     },
     "execution_count": 458,
     "metadata": {},
     "output_type": "execute_result"
    },
    {
     "data": {
      "image/png": "[encoded data removed]",
      "text/plain": [
       "<Figure size 640x480 with 1 Axes>"
      ]
     },
     "metadata": {},
     "output_type": "display_data"
    }
   ],
   "source": [
    "def R2_scorer(estimator, X, y):\n",
    "    score = estimator.score(X, y)\n",
    "    score = 1-(1-score)*(len(X)-1)/(len(X)-X.shape[1]-1)\n",
    "\n",
    "    #negate our BIC calcualation to conform to sklearn scorer signature (greater is better)\n",
    "    return score\n",
    "  \n",
    "sfs1 = SFS(lm, k_features=10, forward=True, floating=False, scoring=R2_scorer, cv=0)\n",
    "sfs1=sfs1.fit(X,y)\n",
    "d = pd.DataFrame.from_dict(sfs1.get_metric_dict()).T\n",
    "\n",
    "\n",
    "lm.fit(X.iloc[:, list(d.iloc[np.argmax(d[\"avg_score\"]),0])], y)\n",
    "print(\"Best model according to forwards stepwise R^2:\", d.iloc[np.argmax(d[\"avg_score\"]),3])\n",
    "print(\"Best fit coefficients:\",[lm.intercept_] + list(lm.coef_))\n",
    "\n",
    "\n",
    "d.plot(y='avg_score')\n",
    "plt.xlabel(\"Number of Predictors\")\n",
    "plt.ylabel(\"R^2\")\n",
    "xmax = list(range(1,11))[np.argmax(d[\"avg_score\"])]\n",
    "ymax = max(d[\"avg_score\"])\n",
    "\n",
    "plt.scatter(xmax, ymax, marker=\"x\", c=\"r\")\n",
    "pd.DataFrame.from_dict(sfs1.get_metric_dict()).T"
   ]
  },
  {
   "cell_type": "markdown",
   "metadata": {},
   "source": [
    "R^2 Backwards"
   ]
  },
  {
   "cell_type": "code",
   "execution_count": 459,
   "metadata": {},
   "outputs": [
    {
     "name": "stdout",
     "output_type": "stream",
     "text": [
      "Best model according to forwards stepwise R^2: ('X^1', 'X^2', 'X^3', 'X^7')\n",
      "Best fit coefficients: [4.203726716457783, 7.74973709386607, 15.899137537634099, 32.215515265845305, -0.008990742392430917]\n"
     ]
    },
    {
     "name": "stderr",
     "output_type": "stream",
     "text": [
      "c:\\Python310\\lib\\site-packages\\numpy\\core\\_methods.py:265: RuntimeWarning: Degrees of freedom <= 0 for slice\n",
      "  ret = _var(a, axis=axis, dtype=dtype, out=out, ddof=ddof,\n",
      "c:\\Python310\\lib\\site-packages\\numpy\\core\\_methods.py:257: RuntimeWarning: invalid value encountered in double_scalars\n",
      "  ret = ret.dtype.type(ret / rcount)\n",
      "c:\\Python310\\lib\\site-packages\\numpy\\core\\_methods.py:265: RuntimeWarning: Degrees of freedom <= 0 for slice\n",
      "  ret = _var(a, axis=axis, dtype=dtype, out=out, ddof=ddof,\n",
      "c:\\Python310\\lib\\site-packages\\numpy\\core\\_methods.py:257: RuntimeWarning: invalid value encountered in double_scalars\n",
      "  ret = ret.dtype.type(ret / rcount)\n"
     ]
    },
    {
     "data": {
      "text/html": [
       "<div>\n",
       "<style scoped>\n",
       "    .dataframe tbody tr th:only-of-type {\n",
       "        vertical-align: middle;\n",
       "    }\n",
       "\n",
       "    .dataframe tbody tr th {\n",
       "        vertical-align: top;\n",
       "    }\n",
       "\n",
       "    .dataframe thead th {\n",
       "        text-align: right;\n",
       "    }\n",
       "</style>\n",
       "<table border=\"1\" class=\"dataframe\">\n",
       "  <thead>\n",
       "    <tr style=\"text-align: right;\">\n",
       "      <th></th>\n",
       "      <th>feature_idx</th>\n",
       "      <th>cv_scores</th>\n",
       "      <th>avg_score</th>\n",
       "      <th>feature_names</th>\n",
       "      <th>ci_bound</th>\n",
       "      <th>std_dev</th>\n",
       "      <th>std_err</th>\n",
       "    </tr>\n",
       "  </thead>\n",
       "  <tbody>\n",
       "    <tr>\n",
       "      <th>10</th>\n",
       "      <td>(0, 1, 2, 3, 4, 5, 6, 7, 8, 9)</td>\n",
       "      <td>[0.9999264575945199]</td>\n",
       "      <td>0.999926</td>\n",
       "      <td>(X^1, X^2, X^3, X^4, X^5, X^6, X^7, X^8, X^9, ...</td>\n",
       "      <td>NaN</td>\n",
       "      <td>0.0</td>\n",
       "      <td>NaN</td>\n",
       "    </tr>\n",
       "    <tr>\n",
       "      <th>9</th>\n",
       "      <td>(0, 1, 2, 4, 5, 6, 7, 8, 9)</td>\n",
       "      <td>[0.9999271411980909]</td>\n",
       "      <td>0.999927</td>\n",
       "      <td>(X^1, X^2, X^3, X^5, X^6, X^7, X^8, X^9, X^10)</td>\n",
       "      <td>NaN</td>\n",
       "      <td>0.0</td>\n",
       "      <td>NaN</td>\n",
       "    </tr>\n",
       "    <tr>\n",
       "      <th>8</th>\n",
       "      <td>(0, 1, 2, 4, 5, 6, 7, 8)</td>\n",
       "      <td>[0.9999276804159322]</td>\n",
       "      <td>0.999928</td>\n",
       "      <td>(X^1, X^2, X^3, X^5, X^6, X^7, X^8, X^9)</td>\n",
       "      <td>NaN</td>\n",
       "      <td>0.0</td>\n",
       "      <td>NaN</td>\n",
       "    </tr>\n",
       "    <tr>\n",
       "      <th>7</th>\n",
       "      <td>(0, 1, 2, 4, 6, 7, 8)</td>\n",
       "      <td>[0.999928439384746]</td>\n",
       "      <td>0.999928</td>\n",
       "      <td>(X^1, X^2, X^3, X^5, X^7, X^8, X^9)</td>\n",
       "      <td>NaN</td>\n",
       "      <td>0.0</td>\n",
       "      <td>NaN</td>\n",
       "    </tr>\n",
       "    <tr>\n",
       "      <th>6</th>\n",
       "      <td>(0, 1, 2, 6, 7, 8)</td>\n",
       "      <td>[0.9999286567477939]</td>\n",
       "      <td>0.999929</td>\n",
       "      <td>(X^1, X^2, X^3, X^7, X^8, X^9)</td>\n",
       "      <td>NaN</td>\n",
       "      <td>0.0</td>\n",
       "      <td>NaN</td>\n",
       "    </tr>\n",
       "    <tr>\n",
       "      <th>5</th>\n",
       "      <td>(0, 1, 2, 6, 7)</td>\n",
       "      <td>[0.9999293755643552]</td>\n",
       "      <td>0.999929</td>\n",
       "      <td>(X^1, X^2, X^3, X^7, X^8)</td>\n",
       "      <td>NaN</td>\n",
       "      <td>0.0</td>\n",
       "      <td>NaN</td>\n",
       "    </tr>\n",
       "    <tr>\n",
       "      <th>4</th>\n",
       "      <td>(0, 1, 2, 6)</td>\n",
       "      <td>[0.9999295084662779]</td>\n",
       "      <td>0.99993</td>\n",
       "      <td>(X^1, X^2, X^3, X^7)</td>\n",
       "      <td>NaN</td>\n",
       "      <td>0.0</td>\n",
       "      <td>NaN</td>\n",
       "    </tr>\n",
       "    <tr>\n",
       "      <th>3</th>\n",
       "      <td>(0, 1, 2)</td>\n",
       "      <td>[0.9999279190721606]</td>\n",
       "      <td>0.999928</td>\n",
       "      <td>(X^1, X^2, X^3)</td>\n",
       "      <td>NaN</td>\n",
       "      <td>0.0</td>\n",
       "      <td>NaN</td>\n",
       "    </tr>\n",
       "    <tr>\n",
       "      <th>2</th>\n",
       "      <td>(1, 2)</td>\n",
       "      <td>[0.9984167311462807]</td>\n",
       "      <td>0.998417</td>\n",
       "      <td>(X^2, X^3)</td>\n",
       "      <td>NaN</td>\n",
       "      <td>0.0</td>\n",
       "      <td>NaN</td>\n",
       "    </tr>\n",
       "    <tr>\n",
       "      <th>1</th>\n",
       "      <td>(2,)</td>\n",
       "      <td>[0.9619261871023221]</td>\n",
       "      <td>0.961926</td>\n",
       "      <td>(X^3,)</td>\n",
       "      <td>NaN</td>\n",
       "      <td>0.0</td>\n",
       "      <td>NaN</td>\n",
       "    </tr>\n",
       "  </tbody>\n",
       "</table>\n",
       "</div>"
      ],
      "text/plain": [
       "                       feature_idx             cv_scores avg_score  \\\n",
       "10  (0, 1, 2, 3, 4, 5, 6, 7, 8, 9)  [0.9999264575945199]  0.999926   \n",
       "9      (0, 1, 2, 4, 5, 6, 7, 8, 9)  [0.9999271411980909]  0.999927   \n",
       "8         (0, 1, 2, 4, 5, 6, 7, 8)  [0.9999276804159322]  0.999928   \n",
       "7            (0, 1, 2, 4, 6, 7, 8)   [0.999928439384746]  0.999928   \n",
       "6               (0, 1, 2, 6, 7, 8)  [0.9999286567477939]  0.999929   \n",
       "5                  (0, 1, 2, 6, 7)  [0.9999293755643552]  0.999929   \n",
       "4                     (0, 1, 2, 6)  [0.9999295084662779]   0.99993   \n",
       "3                        (0, 1, 2)  [0.9999279190721606]  0.999928   \n",
       "2                           (1, 2)  [0.9984167311462807]  0.998417   \n",
       "1                             (2,)  [0.9619261871023221]  0.961926   \n",
       "\n",
       "                                        feature_names ci_bound std_dev std_err  \n",
       "10  (X^1, X^2, X^3, X^4, X^5, X^6, X^7, X^8, X^9, ...      NaN     0.0     NaN  \n",
       "9      (X^1, X^2, X^3, X^5, X^6, X^7, X^8, X^9, X^10)      NaN     0.0     NaN  \n",
       "8            (X^1, X^2, X^3, X^5, X^6, X^7, X^8, X^9)      NaN     0.0     NaN  \n",
       "7                 (X^1, X^2, X^3, X^5, X^7, X^8, X^9)      NaN     0.0     NaN  \n",
       "6                      (X^1, X^2, X^3, X^7, X^8, X^9)      NaN     0.0     NaN  \n",
       "5                           (X^1, X^2, X^3, X^7, X^8)      NaN     0.0     NaN  \n",
       "4                                (X^1, X^2, X^3, X^7)      NaN     0.0     NaN  \n",
       "3                                     (X^1, X^2, X^3)      NaN     0.0     NaN  \n",
       "2                                          (X^2, X^3)      NaN     0.0     NaN  \n",
       "1                                              (X^3,)      NaN     0.0     NaN  "
      ]
     },
     "execution_count": 459,
     "metadata": {},
     "output_type": "execute_result"
    },
    {
     "data": {
      "image/png": "[encoded data removed]",
      "text/plain": [
       "<Figure size 640x480 with 1 Axes>"
      ]
     },
     "metadata": {},
     "output_type": "display_data"
    }
   ],
   "source": [
    "sfs1 = SFS(lm, k_features=1, forward=False, floating=False, scoring=R2_scorer, cv=0)\n",
    "sfs1=sfs1.fit(X,y)\n",
    "d = pd.DataFrame.from_dict(sfs1.get_metric_dict()).T\n",
    "\n",
    "\n",
    "lm.fit(X.iloc[:, list(d.iloc[np.argmax(d[\"avg_score\"]),0])], y)\n",
    "print(\"Best model according to forwards stepwise R^2:\", d.iloc[np.argmax(d[\"avg_score\"]),3])\n",
    "print(\"Best fit coefficients:\",[lm.intercept_] + list(lm.coef_))\n",
    "\n",
    "\n",
    "d.plot(y='avg_score')\n",
    "plt.xlabel(\"Number of Predictors\")\n",
    "plt.ylabel(\"R^2\")\n",
    "xmax = 11 - list(range(1,11))[np.argmax(d[\"avg_score\"])]\n",
    "ymax = max(d[\"avg_score\"])\n",
    "\n",
    "plt.scatter(xmax, ymax, marker=\"x\", c=\"r\")\n",
    "pd.DataFrame.from_dict(sfs1.get_metric_dict()).T"
   ]
  },
  {
   "cell_type": "markdown",
   "metadata": {},
   "source": [
    "Cp Forwards"
   ]
  },
  {
   "cell_type": "code",
   "execution_count": 460,
   "metadata": {},
   "outputs": [
    {
     "name": "stdout",
     "output_type": "stream",
     "text": [
      "Best model according to forwards stepwise Cp: ('X^1', 'X^2', 'X^3', 'X^9')\n",
      "Best fit coefficients: [4.201671387279621, 7.794343936619579, 15.90186408722467, 32.15723071002788, -0.0014040259551926226]\n"
     ]
    },
    {
     "name": "stderr",
     "output_type": "stream",
     "text": [
      "c:\\Python310\\lib\\site-packages\\numpy\\core\\_methods.py:265: RuntimeWarning: Degrees of freedom <= 0 for slice\n",
      "  ret = _var(a, axis=axis, dtype=dtype, out=out, ddof=ddof,\n",
      "c:\\Python310\\lib\\site-packages\\numpy\\core\\_methods.py:257: RuntimeWarning: invalid value encountered in double_scalars\n",
      "  ret = ret.dtype.type(ret / rcount)\n",
      "c:\\Python310\\lib\\site-packages\\numpy\\core\\_methods.py:265: RuntimeWarning: Degrees of freedom <= 0 for slice\n",
      "  ret = _var(a, axis=axis, dtype=dtype, out=out, ddof=ddof,\n",
      "c:\\Python310\\lib\\site-packages\\numpy\\core\\_methods.py:257: RuntimeWarning: invalid value encountered in double_scalars\n",
      "  ret = ret.dtype.type(ret / rcount)\n"
     ]
    },
    {
     "data": {
      "text/html": [
       "<div>\n",
       "<style scoped>\n",
       "    .dataframe tbody tr th:only-of-type {\n",
       "        vertical-align: middle;\n",
       "    }\n",
       "\n",
       "    .dataframe tbody tr th {\n",
       "        vertical-align: top;\n",
       "    }\n",
       "\n",
       "    .dataframe thead th {\n",
       "        text-align: right;\n",
       "    }\n",
       "</style>\n",
       "<table border=\"1\" class=\"dataframe\">\n",
       "  <thead>\n",
       "    <tr style=\"text-align: right;\">\n",
       "      <th></th>\n",
       "      <th>feature_idx</th>\n",
       "      <th>cv_scores</th>\n",
       "      <th>avg_score</th>\n",
       "      <th>feature_names</th>\n",
       "      <th>ci_bound</th>\n",
       "      <th>std_dev</th>\n",
       "      <th>std_err</th>\n",
       "    </tr>\n",
       "  </thead>\n",
       "  <tbody>\n",
       "    <tr>\n",
       "      <th>1</th>\n",
       "      <td>(2,)</td>\n",
       "      <td>[-418.546324563729]</td>\n",
       "      <td>-418.546325</td>\n",
       "      <td>(X^3,)</td>\n",
       "      <td>NaN</td>\n",
       "      <td>0.0</td>\n",
       "      <td>NaN</td>\n",
       "    </tr>\n",
       "    <tr>\n",
       "      <th>2</th>\n",
       "      <td>(1, 2)</td>\n",
       "      <td>[-17.565101174178995]</td>\n",
       "      <td>-17.565101</td>\n",
       "      <td>(X^2, X^3)</td>\n",
       "      <td>NaN</td>\n",
       "      <td>0.0</td>\n",
       "      <td>NaN</td>\n",
       "    </tr>\n",
       "    <tr>\n",
       "      <th>3</th>\n",
       "      <td>(0, 1, 2)</td>\n",
       "      <td>[-0.806656022069826]</td>\n",
       "      <td>-0.806656</td>\n",
       "      <td>(X^1, X^2, X^3)</td>\n",
       "      <td>NaN</td>\n",
       "      <td>0.0</td>\n",
       "      <td>NaN</td>\n",
       "    </tr>\n",
       "    <tr>\n",
       "      <th>4</th>\n",
       "      <td>(0, 1, 2, 8)</td>\n",
       "      <td>[-0.7953559327995403]</td>\n",
       "      <td>-0.795356</td>\n",
       "      <td>(X^1, X^2, X^3, X^9)</td>\n",
       "      <td>NaN</td>\n",
       "      <td>0.0</td>\n",
       "      <td>NaN</td>\n",
       "    </tr>\n",
       "    <tr>\n",
       "      <th>5</th>\n",
       "      <td>(0, 1, 2, 7, 8)</td>\n",
       "      <td>[-0.8039577547017979]</td>\n",
       "      <td>-0.803958</td>\n",
       "      <td>(X^1, X^2, X^3, X^8, X^9)</td>\n",
       "      <td>NaN</td>\n",
       "      <td>0.0</td>\n",
       "      <td>NaN</td>\n",
       "    </tr>\n",
       "    <tr>\n",
       "      <th>6</th>\n",
       "      <td>(0, 1, 2, 6, 7, 8)</td>\n",
       "      <td>[-0.8172309163009331]</td>\n",
       "      <td>-0.817231</td>\n",
       "      <td>(X^1, X^2, X^3, X^7, X^8, X^9)</td>\n",
       "      <td>NaN</td>\n",
       "      <td>0.0</td>\n",
       "      <td>NaN</td>\n",
       "    </tr>\n",
       "    <tr>\n",
       "      <th>7</th>\n",
       "      <td>(0, 1, 2, 4, 6, 7, 8)</td>\n",
       "      <td>[-0.8253870643721402]</td>\n",
       "      <td>-0.825387</td>\n",
       "      <td>(X^1, X^2, X^3, X^5, X^7, X^8, X^9)</td>\n",
       "      <td>NaN</td>\n",
       "      <td>0.0</td>\n",
       "      <td>NaN</td>\n",
       "    </tr>\n",
       "    <tr>\n",
       "      <th>8</th>\n",
       "      <td>(0, 1, 2, 3, 4, 6, 7, 8)</td>\n",
       "      <td>[-0.8392917870674493]</td>\n",
       "      <td>-0.839292</td>\n",
       "      <td>(X^1, X^2, X^3, X^4, X^5, X^7, X^8, X^9)</td>\n",
       "      <td>NaN</td>\n",
       "      <td>0.0</td>\n",
       "      <td>NaN</td>\n",
       "    </tr>\n",
       "    <tr>\n",
       "      <th>9</th>\n",
       "      <td>(0, 1, 2, 3, 4, 6, 7, 8, 9)</td>\n",
       "      <td>[-0.851921950503788]</td>\n",
       "      <td>-0.851922</td>\n",
       "      <td>(X^1, X^2, X^3, X^4, X^5, X^7, X^8, X^9, X^10)</td>\n",
       "      <td>NaN</td>\n",
       "      <td>0.0</td>\n",
       "      <td>NaN</td>\n",
       "    </tr>\n",
       "    <tr>\n",
       "      <th>10</th>\n",
       "      <td>(0, 1, 2, 3, 4, 5, 6, 7, 8, 9)</td>\n",
       "      <td>[-0.8637737414027814]</td>\n",
       "      <td>-0.863774</td>\n",
       "      <td>(X^1, X^2, X^3, X^4, X^5, X^6, X^7, X^8, X^9, ...</td>\n",
       "      <td>NaN</td>\n",
       "      <td>0.0</td>\n",
       "      <td>NaN</td>\n",
       "    </tr>\n",
       "  </tbody>\n",
       "</table>\n",
       "</div>"
      ],
      "text/plain": [
       "                       feature_idx              cv_scores   avg_score  \\\n",
       "1                             (2,)    [-418.546324563729] -418.546325   \n",
       "2                           (1, 2)  [-17.565101174178995]  -17.565101   \n",
       "3                        (0, 1, 2)   [-0.806656022069826]   -0.806656   \n",
       "4                     (0, 1, 2, 8)  [-0.7953559327995403]   -0.795356   \n",
       "5                  (0, 1, 2, 7, 8)  [-0.8039577547017979]   -0.803958   \n",
       "6               (0, 1, 2, 6, 7, 8)  [-0.8172309163009331]   -0.817231   \n",
       "7            (0, 1, 2, 4, 6, 7, 8)  [-0.8253870643721402]   -0.825387   \n",
       "8         (0, 1, 2, 3, 4, 6, 7, 8)  [-0.8392917870674493]   -0.839292   \n",
       "9      (0, 1, 2, 3, 4, 6, 7, 8, 9)   [-0.851921950503788]   -0.851922   \n",
       "10  (0, 1, 2, 3, 4, 5, 6, 7, 8, 9)  [-0.8637737414027814]   -0.863774   \n",
       "\n",
       "                                        feature_names ci_bound std_dev std_err  \n",
       "1                                              (X^3,)      NaN     0.0     NaN  \n",
       "2                                          (X^2, X^3)      NaN     0.0     NaN  \n",
       "3                                     (X^1, X^2, X^3)      NaN     0.0     NaN  \n",
       "4                                (X^1, X^2, X^3, X^9)      NaN     0.0     NaN  \n",
       "5                           (X^1, X^2, X^3, X^8, X^9)      NaN     0.0     NaN  \n",
       "6                      (X^1, X^2, X^3, X^7, X^8, X^9)      NaN     0.0     NaN  \n",
       "7                 (X^1, X^2, X^3, X^5, X^7, X^8, X^9)      NaN     0.0     NaN  \n",
       "8            (X^1, X^2, X^3, X^4, X^5, X^7, X^8, X^9)      NaN     0.0     NaN  \n",
       "9      (X^1, X^2, X^3, X^4, X^5, X^7, X^8, X^9, X^10)      NaN     0.0     NaN  \n",
       "10  (X^1, X^2, X^3, X^4, X^5, X^6, X^7, X^8, X^9, ...      NaN     0.0     NaN  "
      ]
     },
     "execution_count": 460,
     "metadata": {},
     "output_type": "execute_result"
    },
    {
     "data": {
      "image/png": "[encoded data removed]",
      "text/plain": [
       "<Figure size 640x480 with 1 Axes>"
      ]
     },
     "metadata": {},
     "output_type": "display_data"
    }
   ],
   "source": [
    "def Cp_scorer(estimator, X, y):\n",
    "    score = estimator.score(X, y)\n",
    "    ypred = estimator.predict(X)\n",
    "\n",
    "    rss = sum(np.square(ypred-y))\n",
    "    mse = mean_squared_error(y, ypred)\n",
    "    score = 1/len(X) * (rss+(2*X.shape[1]*mse))\n",
    "\n",
    "    #negate our BIC calcualation to conform to sklearn scorer signature (greater is better)\n",
    "    return -score\n",
    "\n",
    "sfs1 = SFS(lm, k_features=10, forward=True, floating=False, scoring=Cp_scorer, cv=0)\n",
    "sfs1=sfs1.fit(X,y)\n",
    "d = pd.DataFrame.from_dict(sfs1.get_metric_dict()).T\n",
    "\n",
    "\n",
    "lm.fit(X.iloc[:, list(d.iloc[np.argmax(d[\"avg_score\"]),0])], y)\n",
    "print(\"Best model according to forwards stepwise Cp:\", d.iloc[np.argmax(d[\"avg_score\"]),3])\n",
    "print(\"Best fit coefficients:\",[lm.intercept_] + list(lm.coef_))\n",
    "\n",
    "d['avg_score'] = d['avg_score']*-1 #un-negate Cp calculation\n",
    "d.plot(y='avg_score')\n",
    "plt.xlabel(\"Number of Predictors\")\n",
    "plt.ylabel(\"Cp\")\n",
    "xmax = list(range(1,11))[np.argmin(d[\"avg_score\"])]\n",
    "ymax = min(d[\"avg_score\"])\n",
    "\n",
    "plt.scatter(xmax, ymax, marker=\"x\", c=\"r\")\n",
    "pd.DataFrame.from_dict(sfs1.get_metric_dict()).T"
   ]
  },
  {
   "cell_type": "markdown",
   "metadata": {},
   "source": [
    "Cp Backwards"
   ]
  },
  {
   "cell_type": "code",
   "execution_count": 461,
   "metadata": {},
   "outputs": [
    {
     "name": "stdout",
     "output_type": "stream",
     "text": [
      "Best model according to forwards stepwise Cp: ('X^1', 'X^2', 'X^3', 'X^7')\n",
      "Best fit coefficients: [4.203726716457783, 7.74973709386607, 15.899137537634099, 32.215515265845305, -0.008990742392430917]\n"
     ]
    },
    {
     "name": "stderr",
     "output_type": "stream",
     "text": [
      "c:\\Python310\\lib\\site-packages\\numpy\\core\\_methods.py:265: RuntimeWarning: Degrees of freedom <= 0 for slice\n",
      "  ret = _var(a, axis=axis, dtype=dtype, out=out, ddof=ddof,\n",
      "c:\\Python310\\lib\\site-packages\\numpy\\core\\_methods.py:257: RuntimeWarning: invalid value encountered in double_scalars\n",
      "  ret = ret.dtype.type(ret / rcount)\n",
      "c:\\Python310\\lib\\site-packages\\numpy\\core\\_methods.py:265: RuntimeWarning: Degrees of freedom <= 0 for slice\n",
      "  ret = _var(a, axis=axis, dtype=dtype, out=out, ddof=ddof,\n",
      "c:\\Python310\\lib\\site-packages\\numpy\\core\\_methods.py:257: RuntimeWarning: invalid value encountered in double_scalars\n",
      "  ret = ret.dtype.type(ret / rcount)\n"
     ]
    },
    {
     "data": {
      "text/html": [
       "<div>\n",
       "<style scoped>\n",
       "    .dataframe tbody tr th:only-of-type {\n",
       "        vertical-align: middle;\n",
       "    }\n",
       "\n",
       "    .dataframe tbody tr th {\n",
       "        vertical-align: top;\n",
       "    }\n",
       "\n",
       "    .dataframe thead th {\n",
       "        text-align: right;\n",
       "    }\n",
       "</style>\n",
       "<table border=\"1\" class=\"dataframe\">\n",
       "  <thead>\n",
       "    <tr style=\"text-align: right;\">\n",
       "      <th></th>\n",
       "      <th>feature_idx</th>\n",
       "      <th>cv_scores</th>\n",
       "      <th>avg_score</th>\n",
       "      <th>feature_names</th>\n",
       "      <th>ci_bound</th>\n",
       "      <th>std_dev</th>\n",
       "      <th>std_err</th>\n",
       "    </tr>\n",
       "  </thead>\n",
       "  <tbody>\n",
       "    <tr>\n",
       "      <th>10</th>\n",
       "      <td>(0, 1, 2, 3, 4, 5, 6, 7, 8, 9)</td>\n",
       "      <td>[-0.8637737414027814]</td>\n",
       "      <td>-0.863774</td>\n",
       "      <td>(X^1, X^2, X^3, X^4, X^5, X^6, X^7, X^8, X^9, ...</td>\n",
       "      <td>NaN</td>\n",
       "      <td>0.0</td>\n",
       "      <td>NaN</td>\n",
       "    </tr>\n",
       "    <tr>\n",
       "      <th>9</th>\n",
       "      <td>(0, 1, 2, 4, 5, 6, 7, 8, 9)</td>\n",
       "      <td>[-0.8509370941838437]</td>\n",
       "      <td>-0.850937</td>\n",
       "      <td>(X^1, X^2, X^3, X^5, X^6, X^7, X^8, X^9, X^10)</td>\n",
       "      <td>NaN</td>\n",
       "      <td>0.0</td>\n",
       "      <td>NaN</td>\n",
       "    </tr>\n",
       "    <tr>\n",
       "      <th>8</th>\n",
       "      <td>(0, 1, 2, 4, 5, 6, 7, 8)</td>\n",
       "      <td>[-0.8395493215363115]</td>\n",
       "      <td>-0.839549</td>\n",
       "      <td>(X^1, X^2, X^3, X^5, X^6, X^7, X^8, X^9)</td>\n",
       "      <td>NaN</td>\n",
       "      <td>0.0</td>\n",
       "      <td>NaN</td>\n",
       "    </tr>\n",
       "    <tr>\n",
       "      <th>7</th>\n",
       "      <td>(0, 1, 2, 4, 6, 7, 8)</td>\n",
       "      <td>[-0.8253870643721402]</td>\n",
       "      <td>-0.825387</td>\n",
       "      <td>(X^1, X^2, X^3, X^5, X^7, X^8, X^9)</td>\n",
       "      <td>NaN</td>\n",
       "      <td>0.0</td>\n",
       "      <td>NaN</td>\n",
       "    </tr>\n",
       "    <tr>\n",
       "      <th>6</th>\n",
       "      <td>(0, 1, 2, 6, 7, 8)</td>\n",
       "      <td>[-0.8172309163009331]</td>\n",
       "      <td>-0.817231</td>\n",
       "      <td>(X^1, X^2, X^3, X^7, X^8, X^9)</td>\n",
       "      <td>NaN</td>\n",
       "      <td>0.0</td>\n",
       "      <td>NaN</td>\n",
       "    </tr>\n",
       "    <tr>\n",
       "      <th>5</th>\n",
       "      <td>(0, 1, 2, 6, 7)</td>\n",
       "      <td>[-0.8030941140153525]</td>\n",
       "      <td>-0.803094</td>\n",
       "      <td>(X^1, X^2, X^3, X^7, X^8)</td>\n",
       "      <td>NaN</td>\n",
       "      <td>0.0</td>\n",
       "      <td>NaN</td>\n",
       "    </tr>\n",
       "    <tr>\n",
       "      <th>4</th>\n",
       "      <td>(0, 1, 2, 6)</td>\n",
       "      <td>[-0.7953810402528773]</td>\n",
       "      <td>-0.795381</td>\n",
       "      <td>(X^1, X^2, X^3, X^7)</td>\n",
       "      <td>NaN</td>\n",
       "      <td>0.0</td>\n",
       "      <td>NaN</td>\n",
       "    </tr>\n",
       "    <tr>\n",
       "      <th>3</th>\n",
       "      <td>(0, 1, 2)</td>\n",
       "      <td>[-0.806656022069826]</td>\n",
       "      <td>-0.806656</td>\n",
       "      <td>(X^1, X^2, X^3)</td>\n",
       "      <td>NaN</td>\n",
       "      <td>0.0</td>\n",
       "      <td>NaN</td>\n",
       "    </tr>\n",
       "    <tr>\n",
       "      <th>2</th>\n",
       "      <td>(1, 2)</td>\n",
       "      <td>[-17.565101174178995]</td>\n",
       "      <td>-17.565101</td>\n",
       "      <td>(X^2, X^3)</td>\n",
       "      <td>NaN</td>\n",
       "      <td>0.0</td>\n",
       "      <td>NaN</td>\n",
       "    </tr>\n",
       "    <tr>\n",
       "      <th>1</th>\n",
       "      <td>(2,)</td>\n",
       "      <td>[-418.546324563729]</td>\n",
       "      <td>-418.546325</td>\n",
       "      <td>(X^3,)</td>\n",
       "      <td>NaN</td>\n",
       "      <td>0.0</td>\n",
       "      <td>NaN</td>\n",
       "    </tr>\n",
       "  </tbody>\n",
       "</table>\n",
       "</div>"
      ],
      "text/plain": [
       "                       feature_idx              cv_scores   avg_score  \\\n",
       "10  (0, 1, 2, 3, 4, 5, 6, 7, 8, 9)  [-0.8637737414027814]   -0.863774   \n",
       "9      (0, 1, 2, 4, 5, 6, 7, 8, 9)  [-0.8509370941838437]   -0.850937   \n",
       "8         (0, 1, 2, 4, 5, 6, 7, 8)  [-0.8395493215363115]   -0.839549   \n",
       "7            (0, 1, 2, 4, 6, 7, 8)  [-0.8253870643721402]   -0.825387   \n",
       "6               (0, 1, 2, 6, 7, 8)  [-0.8172309163009331]   -0.817231   \n",
       "5                  (0, 1, 2, 6, 7)  [-0.8030941140153525]   -0.803094   \n",
       "4                     (0, 1, 2, 6)  [-0.7953810402528773]   -0.795381   \n",
       "3                        (0, 1, 2)   [-0.806656022069826]   -0.806656   \n",
       "2                           (1, 2)  [-17.565101174178995]  -17.565101   \n",
       "1                             (2,)    [-418.546324563729] -418.546325   \n",
       "\n",
       "                                        feature_names ci_bound std_dev std_err  \n",
       "10  (X^1, X^2, X^3, X^4, X^5, X^6, X^7, X^8, X^9, ...      NaN     0.0     NaN  \n",
       "9      (X^1, X^2, X^3, X^5, X^6, X^7, X^8, X^9, X^10)      NaN     0.0     NaN  \n",
       "8            (X^1, X^2, X^3, X^5, X^6, X^7, X^8, X^9)      NaN     0.0     NaN  \n",
       "7                 (X^1, X^2, X^3, X^5, X^7, X^8, X^9)      NaN     0.0     NaN  \n",
       "6                      (X^1, X^2, X^3, X^7, X^8, X^9)      NaN     0.0     NaN  \n",
       "5                           (X^1, X^2, X^3, X^7, X^8)      NaN     0.0     NaN  \n",
       "4                                (X^1, X^2, X^3, X^7)      NaN     0.0     NaN  \n",
       "3                                     (X^1, X^2, X^3)      NaN     0.0     NaN  \n",
       "2                                          (X^2, X^3)      NaN     0.0     NaN  \n",
       "1                                              (X^3,)      NaN     0.0     NaN  "
      ]
     },
     "execution_count": 461,
     "metadata": {},
     "output_type": "execute_result"
    },
    {
     "data": {
      "image/png": "[encoded data removed]",
      "text/plain": [
       "<Figure size 640x480 with 1 Axes>"
      ]
     },
     "metadata": {},
     "output_type": "display_data"
    }
   ],
   "source": [
    "sfs1 = SFS(lm, k_features=1, forward=False, floating=False, scoring=Cp_scorer, cv=0)\n",
    "sfs1=sfs1.fit(X,y)\n",
    "d = pd.DataFrame.from_dict(sfs1.get_metric_dict()).T\n",
    "\n",
    "\n",
    "lm.fit(X.iloc[:, list(d.iloc[np.argmax(d[\"avg_score\"]),0])], y)\n",
    "print(\"Best model according to forwards stepwise Cp:\", d.iloc[np.argmax(d[\"avg_score\"]),3])\n",
    "print(\"Best fit coefficients:\",[lm.intercept_] + list(lm.coef_))\n",
    "\n",
    "d['avg_score'] = d['avg_score']*-1 #un-negate Cp calculation\n",
    "d.plot(y='avg_score')\n",
    "plt.xlabel(\"Number of Predictors\")\n",
    "plt.ylabel(\"Cp\")\n",
    "xmax = 11-list(range(1,11))[np.argmin(d[\"avg_score\"])]\n",
    "ymax = min(d[\"avg_score\"])\n",
    "\n",
    "plt.scatter(xmax, ymax, marker=\"x\", c=\"r\")\n",
    "pd.DataFrame.from_dict(sfs1.get_metric_dict()).T"
   ]
  },
  {
   "cell_type": "markdown",
   "metadata": {},
   "source": [
    "The results in part d are mostly the same as the results in part c. The only difference is that for our BIC calculations, the forwards stepwise selection and the backwards stepwise selection picked a model using all 10 powers of x (all 10 predictors) as the best fit."
   ]
  },
  {
   "cell_type": "markdown",
   "metadata": {},
   "source": [
    "4e."
   ]
  }
 ],
 "metadata": {
  "kernelspec": {
   "display_name": "Python 3.9.13 64-bit (microsoft store)",
   "language": "python",
   "name": "python3"
  },
  "language_info": {
   "codemirror_mode": {
    "name": "ipython",
    "version": 3
   },
   "file_extension": ".py",
   "mimetype": "text/x-python",
   "name": "python",
   "nbconvert_exporter": "python",
   "pygments_lexer": "ipython3",
   "version": "3.9.13"
  },
  "orig_nbformat": 4,
  "vscode": {
   "interpreter": {
    "hash": "85befb9efcc66b39b9503c910c60528561a4b63248458e08755f93da3310248b"
   }
  }
 },
 "nbformat": 4,
 "nbformat_minor": 2
}
