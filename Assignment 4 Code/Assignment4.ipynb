{
 "cells": [
  {
   "cell_type": "code",
   "execution_count": 81,
   "metadata": {},
   "outputs": [],
   "source": [
    "import pandas as pd\n",
    "import sklearn as sk\n",
    "import statsmodels as sm \n",
    "import matplotlib.pyplot as plt\n",
    "import numpy as np\n",
    "from sklearn.model_selection import train_test_split, LeaveOneOut, cross_val_score\n",
    "from sklearn.linear_model import LogisticRegression, LinearRegression\n",
    "\n",
    "from sklearn.preprocessing import PolynomialFeatures\n",
    "from sklearn.pipeline import Pipeline\n",
    "import seaborn as sns\n",
    "\n",
    "sns.set()"
   ]
  },
  {
   "cell_type": "code",
   "execution_count": 53,
   "metadata": {},
   "outputs": [],
   "source": [
    "df = pd.read_csv(\"Default.csv\", index_col=0)\n"
   ]
  },
  {
   "cell_type": "markdown",
   "metadata": {},
   "source": [
    "1.\n",
    "1a.\n"
   ]
  },
  {
   "cell_type": "code",
   "execution_count": 54,
   "metadata": {},
   "outputs": [
    {
     "data": {
      "text/plain": [
       "array([[2.08091984e-05, 5.64710797e-03]])"
      ]
     },
     "execution_count": 54,
     "metadata": {},
     "output_type": "execute_result"
    }
   ],
   "source": [
    "y = df['default']\n",
    "X = df[['income', 'balance']]\n",
    "clf = LogisticRegression(random_state=0).fit(X, y)\n",
    "clf.coef_"
   ]
  },
  {
   "cell_type": "markdown",
   "metadata": {},
   "source": [
    "1b."
   ]
  },
  {
   "cell_type": "code",
   "execution_count": 55,
   "metadata": {},
   "outputs": [
    {
     "data": {
      "text/plain": [
       "0.026000000000000023"
      ]
     },
     "execution_count": 55,
     "metadata": {},
     "output_type": "execute_result"
    }
   ],
   "source": [
    "#split into train and validation set\n",
    "X_train, X_test, y_train, y_test = train_test_split(X, y, test_size = 0.25, random_state=200)\n",
    "\n",
    "#fit with traing data\n",
    "clf.fit(X_train, y_train)\n",
    "\n",
    "#posterior probability threshold of 0.5 and compute validation set accuracy\n",
    "#clf.score gives us the accuracy, so 1-score is the error, or misclassifications\n",
    "1- clf.score(X_test, y_test)"
   ]
  },
  {
   "cell_type": "markdown",
   "metadata": {},
   "source": [
    "there is a 2.6% misclassification rate, or validation set error."
   ]
  },
  {
   "cell_type": "markdown",
   "metadata": {},
   "source": [
    "1c."
   ]
  },
  {
   "cell_type": "code",
   "execution_count": 56,
   "metadata": {},
   "outputs": [
    {
     "name": "stdout",
     "output_type": "stream",
     "text": [
      "0.03159999999999996\n",
      "0.026000000000000023\n",
      "0.031200000000000006\n"
     ]
    }
   ],
   "source": [
    "for i in range(3):\n",
    "    #split into train and validation set\n",
    "    X_train, X_test, y_train, y_test = train_test_split(X, y, test_size = 0.25, random_state=250+i)\n",
    "\n",
    "    #fit with traing data\n",
    "    clf.fit(X_train, y_train)\n",
    "\n",
    "    #posterior probability threshold of 0.5 and compute validation set accuracy\n",
    "    #clf.score gives us the accuracy, so 1-score is the error, or misclassifications\n",
    "    print(1- clf.score(X_test, y_test))"
   ]
  },
  {
   "cell_type": "markdown",
   "metadata": {},
   "source": [
    "using three different 75-25 splits, our validation set error remained relatively low, with the error of each split being aroudn 2.8 or 3.0 "
   ]
  },
  {
   "cell_type": "markdown",
   "metadata": {},
   "source": [
    "1d."
   ]
  },
  {
   "cell_type": "code",
   "execution_count": 57,
   "metadata": {},
   "outputs": [
    {
     "name": "stderr",
     "output_type": "stream",
     "text": [
      "C:\\Users\\Bernhard\\AppData\\Local\\Temp\\ipykernel_97048\\568021069.py:3: SettingWithCopyWarning: \n",
      "A value is trying to be set on a copy of a slice from a DataFrame.\n",
      "Try using .loc[row_indexer,col_indexer] = value instead\n",
      "\n",
      "See the caveats in the documentation: https://pandas.pydata.org/pandas-docs/stable/user_guide/indexing.html#returning-a-view-versus-a-copy\n",
      "  X['student'] = stud\n"
     ]
    },
    {
     "name": "stdout",
     "output_type": "stream",
     "text": [
      "Mean error with stud: 0.03240533333333334\n",
      "Mean error without stud: 0.030437333333333344\n"
     ]
    }
   ],
   "source": [
    "stud = df['student'].eq('Yes').mul(1)\n",
    "X = df[['income', 'balance']]\n",
    "X['student'] = stud\n",
    "\n",
    "with_stud = []\n",
    "without_stud = []\n",
    "for i in range(75):\n",
    "    X_train, X_test, y_train, y_test = train_test_split(X, y, test_size = 0.25, random_state = 200+i)\n",
    "\n",
    "    #with student\n",
    "    clf.fit(X_train, y_train)\n",
    "    with_stud.append(1- clf.score(X_test, y_test))\n",
    "\n",
    "    #without student\n",
    "    clf.fit(X_train.drop(['student'], axis =1), y_train)\n",
    "    without_stud.append(1- clf.score(X_test.drop(['student'], axis=1), y_test))\n",
    "print(\"Mean error with stud: {}\".format(sum(with_stud)/len(with_stud)))\n",
    "print(\"Mean error without stud: {}\".format(sum(without_stud)/len(without_stud)))\n",
    "\n",
    "\n",
    "    "
   ]
  },
  {
   "cell_type": "markdown",
   "metadata": {},
   "source": [
    "From this, we can see that adding a student dummy variable does not reduce the erorr rate of our logisitic regression, and in fact increases the average error rate for our logisitc regression by around 0.2%"
   ]
  },
  {
   "cell_type": "markdown",
   "metadata": {},
   "source": [
    "2.\n",
    "2a."
   ]
  },
  {
   "cell_type": "code",
   "execution_count": 73,
   "metadata": {},
   "outputs": [],
   "source": [
    "np.random.seed(312)\n",
    "X = np.random.normal(size=100)\n",
    "y = X-2*X**2+np.random.normal(size=100)\n"
   ]
  },
  {
   "cell_type": "markdown",
   "metadata": {},
   "source": [
    "<p>In this dataset, n is 100, and p is 1. The model used ot generate the data in equation form is Y = x-2x<sup>2</sup> + &#949</p>"
   ]
  },
  {
   "cell_type": "markdown",
   "metadata": {},
   "source": [
    "2b."
   ]
  },
  {
   "cell_type": "code",
   "execution_count": 74,
   "metadata": {},
   "outputs": [
    {
     "data": {
      "text/plain": [
       "[<matplotlib.lines.Line2D at 0x22c3c5f2410>]"
      ]
     },
     "execution_count": 74,
     "metadata": {},
     "output_type": "execute_result"
    },
    {
     "data": {
      "image/png": "[encoded data removed]",
      "text/plain": [
       "<Figure size 640x480 with 1 Axes>"
      ]
     },
     "metadata": {},
     "output_type": "display_data"
    }
   ],
   "source": [
    "plt.scatter(X, y)\n",
    "\n",
    "x_predict=np.linspace(-2.5,2.5)\n",
    "y_predict=x_predict-2*x_predict**2\n",
    "plt.plot(x_predict,y_predict, 'r--')"
   ]
  },
  {
   "cell_type": "markdown",
   "metadata": {},
   "source": [
    "I find that there is noise especially around the vertex of the parabola for the model of the equation y, but the scatterplot is mostly parabolic"
   ]
  },
  {
   "cell_type": "markdown",
   "metadata": {},
   "source": [
    "2c."
   ]
  },
  {
   "cell_type": "code",
   "execution_count": 85,
   "metadata": {},
   "outputs": [
    {
     "name": "stderr",
     "output_type": "stream",
     "text": [
      "C:\\Users\\Bernhard\\AppData\\Local\\Temp\\ipykernel_97048\\4121776894.py:2: FutureWarning: The default dtype for empty Series will be 'object' instead of 'float64' in a future version. Specify a dtype explicitly to silence this warning.\n",
      "  loocv_scores = pd.Series()\n"
     ]
    },
    {
     "data": {
      "text/plain": [
       "0    8.015655\n",
       "1    0.807797\n",
       "2    0.823459\n",
       "3    0.827053\n",
       "dtype: float64"
      ]
     },
     "execution_count": 85,
     "metadata": {},
     "output_type": "execute_result"
    }
   ],
   "source": [
    "np.random.seed(312)\n",
    "loocv_scores = pd.Series()\n",
    "loo = LeaveOneOut()\n",
    "loo.get_n_splits(X)\n",
    "for i in range(4):\n",
    "    poly_reg = Pipeline([(\"poly\", PolynomialFeatures(degree = i+1)), (\"reg\", LinearRegression())])\n",
    "    loo = LeaveOneOut()\n",
    "    cv_scores = cross_val_score(poly_reg, X.reshape(-1, 1), y, scoring = \"neg_mean_squared_error\", cv = loo)\n",
    "    loocv_scores.loc[i] = abs(cv_scores.mean())\n",
    "loocv_scores"
   ]
  },
  {
   "cell_type": "markdown",
   "metadata": {},
   "source": [
    "<p>for the linear model Y= &#946<sub>0</sub> + &#946<sub>1</sub>X + &#949 we get 8.016 as the LOOCV error.<p>\n",
    "<p>for the linear model Y= &#946<sub>0</sub> + &#946<sub>1</sub>X + &#946<sub>2</sub>X<sup>2</sup> + &#949 we get 0.0808 as the LOOCV error.<p>\n",
    "<p>for the linear model Y= &#946<sub>0</sub> + &#946<sub>1</sub>X + &#946<sub>2</sub>X<sup>2</sup> +  &#946<sub>3</sub>X<sup>3</sup> + &#949 we get 0.0823 as the LOOCV error.<p>\n",
    "<p>for the linear model Y= &#946<sub>0</sub> + &#946<sub>1</sub>X + &#946<sub>2</sub>X<sup>2</sup> +  &#946<sub>3</sub>X<sup>3</sup> +  &#946<sub>4</sub>X<sup>4</sup> + &#949 we get 0.0827 as the LOOCV error.<p>\n"
   ]
  },
  {
   "cell_type": "markdown",
   "metadata": {},
   "source": [
    "2d."
   ]
  },
  {
   "cell_type": "markdown",
   "metadata": {},
   "source": [
    "<p>The model Y= &#946<sub>0</sub> + &#946<sub>1</sub>X + &#946<sub>2</sub>X<sup>2</sup> + &#949 had the lowest LOOCV error. This is what I expected, as the original model was formed off of the equation Y = x-2x<sup>2</sup> + &#949 which is best modeled by the second order polynomial equation that performed the best.</p>"
   ]
  }
 ],
 "metadata": {
  "kernelspec": {
   "display_name": "Python 3.10.6 64-bit",
   "language": "python",
   "name": "python3"
  },
  "language_info": {
   "codemirror_mode": {
    "name": "ipython",
    "version": 3
   },
   "file_extension": ".py",
   "mimetype": "text/x-python",
   "name": "python",
   "nbconvert_exporter": "python",
   "pygments_lexer": "ipython3",
   "version": "3.10.6"
  },
  "orig_nbformat": 4,
  "vscode": {
   "interpreter": {
    "hash": "369f2c481f4da34e4445cda3fffd2e751bd1c4d706f27375911949ba6bb62e1c"
   }
  }
 },
 "nbformat": 4,
 "nbformat_minor": 2
}
